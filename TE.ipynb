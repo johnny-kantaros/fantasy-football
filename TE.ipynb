{
 "cells": [
  {
   "attachments": {},
   "cell_type": "markdown",
   "metadata": {},
   "source": [
    "## Running Backs"
   ]
  },
  {
   "cell_type": "code",
   "execution_count": 1,
   "metadata": {},
   "outputs": [],
   "source": [
    "%load_ext autoreload\n",
    "%autoreload 2"
   ]
  },
  {
   "cell_type": "code",
   "execution_count": 2,
   "metadata": {},
   "outputs": [],
   "source": [
    "import pandas as pd\n",
    "import warnings\n",
    "warnings.filterwarnings('ignore')\n",
    "from fantasy_football import Fantasy\n",
    "\n",
    "# Import fantasy class which will be used for building datasets\n",
    "football = Fantasy()"
   ]
  },
  {
   "attachments": {},
   "cell_type": "markdown",
   "metadata": {},
   "source": [
    "First, we pull 2022 offense data and clean it"
   ]
  },
  {
   "cell_type": "code",
   "execution_count": 3,
   "metadata": {},
   "outputs": [
    {
     "name": "stdout",
     "output_type": "stream",
     "text": [
      "Offense_2020\n",
      "Offense_Proj\n",
      "Offense_Prior_Actuals\n",
      "Offense_Proj\n"
     ]
    }
   ],
   "source": [
    "df, y = Fantasy.read_data('2021')"
   ]
  },
  {
   "attachments": {},
   "cell_type": "markdown",
   "metadata": {},
   "source": [
    "Split data by positional group"
   ]
  },
  {
   "cell_type": "code",
   "execution_count": 4,
   "metadata": {},
   "outputs": [],
   "source": [
    "TE_data = football.makeRegularData(df, \"TE\")\n"
   ]
  },
  {
   "attachments": {},
   "cell_type": "markdown",
   "metadata": {},
   "source": [
    "Next, we pull more advanced data for rushing and passing"
   ]
  },
  {
   "cell_type": "code",
   "execution_count": 5,
   "metadata": {},
   "outputs": [],
   "source": [
    "# Advanced\n",
    "rushing_advanced = football.getAdvancedStats(\"rushing\", \"2021\")\n",
    "receiving_advanced = football.getAdvancedStats(\"receiving\", \"2021\") "
   ]
  },
  {
   "attachments": {},
   "cell_type": "markdown",
   "metadata": {},
   "source": [
    "Now we are ready to merge the datasets to incorporate the more advance statistics"
   ]
  },
  {
   "cell_type": "code",
   "execution_count": 7,
   "metadata": {},
   "outputs": [],
   "source": [
    "TE_rushing = football.addAdvanced(TE_data, rushing_advanced)"
   ]
  },
  {
   "cell_type": "code",
   "execution_count": 9,
   "metadata": {},
   "outputs": [
    {
     "name": "stdout",
     "output_type": "stream",
     "text": [
      "Index(['Player_x', 'Pos_x', 'Tm_x', 'GP', 'Att_x', 'Rushing_Yds', 'Rushing_Td',\n",
      "       'Rushing_1st', 'Tgt', 'Rec', 'Receiving_Yds', 'Receiving_Td',\n",
      "       'Receiving_1st', '2PT', 'Total', 'Lost', 'Name', 'Player_y', 'Tm_y',\n",
      "       'Age', 'Pos_y', 'G', 'GS', 'Att_y', 'Yds', 'TD', '1D', 'YBC', 'YBC/Att',\n",
      "       'YAC', 'YAC/Att', 'BrkTkl', 'Att/Br'],\n",
      "      dtype='object')\n"
     ]
    }
   ],
   "source": [
    "print(TE_rushing.columns)"
   ]
  },
  {
   "cell_type": "code",
   "execution_count": 12,
   "metadata": {},
   "outputs": [
    {
     "ename": "KeyError",
     "evalue": "'Player'",
     "output_type": "error",
     "traceback": [
      "\u001b[0;31m---------------------------------------------------------------------------\u001b[0m",
      "\u001b[0;31mKeyError\u001b[0m                                  Traceback (most recent call last)",
      "File \u001b[0;32m~/opt/anaconda3/envs/ml-0451/lib/python3.9/site-packages/pandas/core/indexes/base.py:3802\u001b[0m, in \u001b[0;36mIndex.get_loc\u001b[0;34m(self, key, method, tolerance)\u001b[0m\n\u001b[1;32m   3801\u001b[0m \u001b[39mtry\u001b[39;00m:\n\u001b[0;32m-> 3802\u001b[0m     \u001b[39mreturn\u001b[39;00m \u001b[39mself\u001b[39;49m\u001b[39m.\u001b[39;49m_engine\u001b[39m.\u001b[39;49mget_loc(casted_key)\n\u001b[1;32m   3803\u001b[0m \u001b[39mexcept\u001b[39;00m \u001b[39mKeyError\u001b[39;00m \u001b[39mas\u001b[39;00m err:\n",
      "File \u001b[0;32m~/opt/anaconda3/envs/ml-0451/lib/python3.9/site-packages/pandas/_libs/index.pyx:138\u001b[0m, in \u001b[0;36mpandas._libs.index.IndexEngine.get_loc\u001b[0;34m()\u001b[0m\n",
      "File \u001b[0;32m~/opt/anaconda3/envs/ml-0451/lib/python3.9/site-packages/pandas/_libs/index.pyx:165\u001b[0m, in \u001b[0;36mpandas._libs.index.IndexEngine.get_loc\u001b[0;34m()\u001b[0m\n",
      "File \u001b[0;32mpandas/_libs/hashtable_class_helper.pxi:5745\u001b[0m, in \u001b[0;36mpandas._libs.hashtable.PyObjectHashTable.get_item\u001b[0;34m()\u001b[0m\n",
      "File \u001b[0;32mpandas/_libs/hashtable_class_helper.pxi:5753\u001b[0m, in \u001b[0;36mpandas._libs.hashtable.PyObjectHashTable.get_item\u001b[0;34m()\u001b[0m\n",
      "\u001b[0;31mKeyError\u001b[0m: 'Player'",
      "\nThe above exception was the direct cause of the following exception:\n",
      "\u001b[0;31mKeyError\u001b[0m                                  Traceback (most recent call last)",
      "Cell \u001b[0;32mIn[12], line 1\u001b[0m\n\u001b[0;32m----> 1\u001b[0m TE \u001b[39m=\u001b[39m football\u001b[39m.\u001b[39;49maddAdvanced(TE_rushing, receiving_advanced)\n",
      "File \u001b[0;32m~/Desktop/0451/fantasy-football/fantasy_football.py:49\u001b[0m, in \u001b[0;36mFantasy.addAdvanced\u001b[0;34m(self, df_raw, df_advanced)\u001b[0m\n\u001b[1;32m     44\u001b[0m \u001b[39mdef\u001b[39;00m \u001b[39maddAdvanced\u001b[39m(\u001b[39mself\u001b[39m, df_raw, df_advanced):\n\u001b[1;32m     45\u001b[0m     \u001b[39m# new data frame with split value columns\u001b[39;00m\n\u001b[1;32m     46\u001b[0m     \u001b[39m# print(type(df_advanced))\u001b[39;00m\n\u001b[1;32m     47\u001b[0m     \u001b[39m# print(df_advanced['Player'])\u001b[39;00m\n\u001b[1;32m     48\u001b[0m     df_advanced[\u001b[39m'\u001b[39m\u001b[39mName\u001b[39m\u001b[39m'\u001b[39m] \u001b[39m=\u001b[39m df_advanced[\u001b[39m'\u001b[39m\u001b[39mPlayer\u001b[39m\u001b[39m'\u001b[39m]\u001b[39m.\u001b[39mapply(\u001b[39mself\u001b[39m\u001b[39m.\u001b[39mextract_initial_last_name)\n\u001b[0;32m---> 49\u001b[0m     df_raw[\u001b[39m'\u001b[39m\u001b[39mName\u001b[39m\u001b[39m'\u001b[39m] \u001b[39m=\u001b[39m df_raw[\u001b[39m'\u001b[39;49m\u001b[39mPlayer\u001b[39;49m\u001b[39m'\u001b[39;49m]\n\u001b[1;32m     51\u001b[0m     merged_df \u001b[39m=\u001b[39m df_raw\u001b[39m.\u001b[39mmerge(df_advanced, on\u001b[39m=\u001b[39m[\u001b[39m'\u001b[39m\u001b[39mName\u001b[39m\u001b[39m'\u001b[39m], how\u001b[39m=\u001b[39m\u001b[39m'\u001b[39m\u001b[39mleft\u001b[39m\u001b[39m'\u001b[39m)\u001b[39m.\u001b[39mfillna(\u001b[39m0\u001b[39m)\n\u001b[1;32m     53\u001b[0m     \u001b[39mreturn\u001b[39;00m merged_df\n",
      "File \u001b[0;32m~/opt/anaconda3/envs/ml-0451/lib/python3.9/site-packages/pandas/core/frame.py:3807\u001b[0m, in \u001b[0;36mDataFrame.__getitem__\u001b[0;34m(self, key)\u001b[0m\n\u001b[1;32m   3805\u001b[0m \u001b[39mif\u001b[39;00m \u001b[39mself\u001b[39m\u001b[39m.\u001b[39mcolumns\u001b[39m.\u001b[39mnlevels \u001b[39m>\u001b[39m \u001b[39m1\u001b[39m:\n\u001b[1;32m   3806\u001b[0m     \u001b[39mreturn\u001b[39;00m \u001b[39mself\u001b[39m\u001b[39m.\u001b[39m_getitem_multilevel(key)\n\u001b[0;32m-> 3807\u001b[0m indexer \u001b[39m=\u001b[39m \u001b[39mself\u001b[39;49m\u001b[39m.\u001b[39;49mcolumns\u001b[39m.\u001b[39;49mget_loc(key)\n\u001b[1;32m   3808\u001b[0m \u001b[39mif\u001b[39;00m is_integer(indexer):\n\u001b[1;32m   3809\u001b[0m     indexer \u001b[39m=\u001b[39m [indexer]\n",
      "File \u001b[0;32m~/opt/anaconda3/envs/ml-0451/lib/python3.9/site-packages/pandas/core/indexes/base.py:3804\u001b[0m, in \u001b[0;36mIndex.get_loc\u001b[0;34m(self, key, method, tolerance)\u001b[0m\n\u001b[1;32m   3802\u001b[0m     \u001b[39mreturn\u001b[39;00m \u001b[39mself\u001b[39m\u001b[39m.\u001b[39m_engine\u001b[39m.\u001b[39mget_loc(casted_key)\n\u001b[1;32m   3803\u001b[0m \u001b[39mexcept\u001b[39;00m \u001b[39mKeyError\u001b[39;00m \u001b[39mas\u001b[39;00m err:\n\u001b[0;32m-> 3804\u001b[0m     \u001b[39mraise\u001b[39;00m \u001b[39mKeyError\u001b[39;00m(key) \u001b[39mfrom\u001b[39;00m \u001b[39merr\u001b[39;00m\n\u001b[1;32m   3805\u001b[0m \u001b[39mexcept\u001b[39;00m \u001b[39mTypeError\u001b[39;00m:\n\u001b[1;32m   3806\u001b[0m     \u001b[39m# If we have a listlike key, _check_indexing_error will raise\u001b[39;00m\n\u001b[1;32m   3807\u001b[0m     \u001b[39m#  InvalidIndexError. Otherwise we fall through and re-raise\u001b[39;00m\n\u001b[1;32m   3808\u001b[0m     \u001b[39m#  the TypeError.\u001b[39;00m\n\u001b[1;32m   3809\u001b[0m     \u001b[39mself\u001b[39m\u001b[39m.\u001b[39m_check_indexing_error(key)\n",
      "\u001b[0;31mKeyError\u001b[0m: 'Player'"
     ]
    }
   ],
   "source": [
    "TE = football.secondMerge(TE_rushing, receiving_advanced)"
   ]
  },
  {
   "attachments": {},
   "cell_type": "markdown",
   "metadata": {},
   "source": [
    "### CONTRACTS AND OTHER DATA (not yet completed)"
   ]
  },
  {
   "attachments": {},
   "cell_type": "markdown",
   "metadata": {},
   "source": [
    "We are not using the player contracts yet but here is where we scrape that data"
   ]
  },
  {
   "cell_type": "code",
   "execution_count": null,
   "metadata": {},
   "outputs": [
    {
     "data": {
      "text/html": [
       "<div>\n",
       "<style scoped>\n",
       "    .dataframe tbody tr th:only-of-type {\n",
       "        vertical-align: middle;\n",
       "    }\n",
       "\n",
       "    .dataframe tbody tr th {\n",
       "        vertical-align: top;\n",
       "    }\n",
       "\n",
       "    .dataframe thead th {\n",
       "        text-align: right;\n",
       "    }\n",
       "</style>\n",
       "<table border=\"1\" class=\"dataframe\">\n",
       "  <thead>\n",
       "    <tr style=\"text-align: right;\">\n",
       "      <th></th>\n",
       "      <th>Rank</th>\n",
       "      <th>Player</th>\n",
       "      <th>Signed Age</th>\n",
       "      <th>Yrs</th>\n",
       "      <th>Value</th>\n",
       "      <th>AAV</th>\n",
       "      <th>Sign Bonus</th>\n",
       "      <th>G'teed @ Sign</th>\n",
       "      <th>Practical G'teed</th>\n",
       "    </tr>\n",
       "  </thead>\n",
       "  <tbody>\n",
       "    <tr>\n",
       "      <th>0</th>\n",
       "      <td>1</td>\n",
       "      <td>Jay Cutler  Quarterback | 2014-2020 (FA: 2021)...</td>\n",
       "      <td>30</td>\n",
       "      <td>7</td>\n",
       "      <td>$126,700,000</td>\n",
       "      <td>$18,100,000</td>\n",
       "      <td>NaN</td>\n",
       "      <td>$38,000,000</td>\n",
       "      <td>$54,000,000</td>\n",
       "    </tr>\n",
       "    <tr>\n",
       "      <th>1</th>\n",
       "      <td>2</td>\n",
       "      <td>Cam Newton  Quarterback | 2015-2020 (FA: 2021)</td>\n",
       "      <td>26</td>\n",
       "      <td>5</td>\n",
       "      <td>$103,800,000</td>\n",
       "      <td>$20,760,000</td>\n",
       "      <td>$22,500,000</td>\n",
       "      <td>$41,000,000</td>\n",
       "      <td>$60,000,000</td>\n",
       "    </tr>\n",
       "    <tr>\n",
       "      <th>2</th>\n",
       "      <td>3</td>\n",
       "      <td>Andy Dalton  Quarterback | 2014-2020 (FA: 2021...</td>\n",
       "      <td>26</td>\n",
       "      <td>6</td>\n",
       "      <td>$96,000,000</td>\n",
       "      <td>$16,000,000</td>\n",
       "      <td>$12,000,000</td>\n",
       "      <td>$17,000,000</td>\n",
       "      <td>$17,000,000</td>\n",
       "    </tr>\n",
       "    <tr>\n",
       "      <th>3</th>\n",
       "      <td>4</td>\n",
       "      <td>Kirk Cousins  Quarterback | 2018-2020 (FA: 2021)</td>\n",
       "      <td>29</td>\n",
       "      <td>3</td>\n",
       "      <td>$84,000,000</td>\n",
       "      <td>$28,000,000</td>\n",
       "      <td>$3,000,000</td>\n",
       "      <td>$84,000,000</td>\n",
       "      <td>$84,000,000</td>\n",
       "    </tr>\n",
       "    <tr>\n",
       "      <th>4</th>\n",
       "      <td>5</td>\n",
       "      <td>Ryan Tannehill  Quarterback | 2015-2020 (FA: 2...</td>\n",
       "      <td>26</td>\n",
       "      <td>4</td>\n",
       "      <td>$77,000,000</td>\n",
       "      <td>$19,250,000</td>\n",
       "      <td>$11,500,000</td>\n",
       "      <td>$21,500,000</td>\n",
       "      <td>$45,000,000</td>\n",
       "    </tr>\n",
       "    <tr>\n",
       "      <th>...</th>\n",
       "      <td>...</td>\n",
       "      <td>...</td>\n",
       "      <td>...</td>\n",
       "      <td>...</td>\n",
       "      <td>...</td>\n",
       "      <td>...</td>\n",
       "      <td>...</td>\n",
       "      <td>...</td>\n",
       "      <td>...</td>\n",
       "    </tr>\n",
       "    <tr>\n",
       "      <th>95</th>\n",
       "      <td>96</td>\n",
       "      <td>Paxton Lynch  Quarterback | 2016-2020 (FA: 202...</td>\n",
       "      <td>22</td>\n",
       "      <td>4</td>\n",
       "      <td>$9,476,296</td>\n",
       "      <td>$2,369,074</td>\n",
       "      <td>$5,091,852</td>\n",
       "      <td>$7,884,074</td>\n",
       "      <td>$7,884,074</td>\n",
       "    </tr>\n",
       "    <tr>\n",
       "      <th>96</th>\n",
       "      <td>97</td>\n",
       "      <td>Lee Smith  Tight End | 2018-2020 (FA: 2021)  O...</td>\n",
       "      <td>30</td>\n",
       "      <td>3</td>\n",
       "      <td>$9,000,000</td>\n",
       "      <td>$3,000,000</td>\n",
       "      <td>NaN</td>\n",
       "      <td>$3,000,000</td>\n",
       "      <td>$3,000,000</td>\n",
       "    </tr>\n",
       "    <tr>\n",
       "      <th>97</th>\n",
       "      <td>97</td>\n",
       "      <td>Sammy Watkins  Wide Receiver | 2020-2020 (FA: ...</td>\n",
       "      <td>26</td>\n",
       "      <td>1</td>\n",
       "      <td>$9,000,000</td>\n",
       "      <td>$9,000,000</td>\n",
       "      <td>$1,000,000</td>\n",
       "      <td>$8,000,000</td>\n",
       "      <td>$8,000,000</td>\n",
       "    </tr>\n",
       "    <tr>\n",
       "      <th>98</th>\n",
       "      <td>97</td>\n",
       "      <td>David Andrews  Center | 2017-2020 (FA: 2021)</td>\n",
       "      <td>24</td>\n",
       "      <td>3</td>\n",
       "      <td>$9,000,000</td>\n",
       "      <td>$3,000,000</td>\n",
       "      <td>$1,600,000</td>\n",
       "      <td>$1,600,000</td>\n",
       "      <td>$1,600,000</td>\n",
       "    </tr>\n",
       "    <tr>\n",
       "      <th>99</th>\n",
       "      <td>97</td>\n",
       "      <td>Donte Moncrief  Wide Receiver | 2019-2020 (FA:...</td>\n",
       "      <td>25</td>\n",
       "      <td>2</td>\n",
       "      <td>$9,000,000</td>\n",
       "      <td>$4,500,000</td>\n",
       "      <td>$3,500,000</td>\n",
       "      <td>$3,500,000</td>\n",
       "      <td>$3,500,000</td>\n",
       "    </tr>\n",
       "  </tbody>\n",
       "</table>\n",
       "<p>100 rows × 9 columns</p>\n",
       "</div>"
      ],
      "text/plain": [
       "    Rank                                             Player  Signed Age  Yrs  \\\n",
       "0      1  Jay Cutler  Quarterback | 2014-2020 (FA: 2021)...          30    7   \n",
       "1      2     Cam Newton  Quarterback | 2015-2020 (FA: 2021)          26    5   \n",
       "2      3  Andy Dalton  Quarterback | 2014-2020 (FA: 2021...          26    6   \n",
       "3      4   Kirk Cousins  Quarterback | 2018-2020 (FA: 2021)          29    3   \n",
       "4      5  Ryan Tannehill  Quarterback | 2015-2020 (FA: 2...          26    4   \n",
       "..   ...                                                ...         ...  ...   \n",
       "95    96  Paxton Lynch  Quarterback | 2016-2020 (FA: 202...          22    4   \n",
       "96    97  Lee Smith  Tight End | 2018-2020 (FA: 2021)  O...          30    3   \n",
       "97    97  Sammy Watkins  Wide Receiver | 2020-2020 (FA: ...          26    1   \n",
       "98    97       David Andrews  Center | 2017-2020 (FA: 2021)          24    3   \n",
       "99    97  Donte Moncrief  Wide Receiver | 2019-2020 (FA:...          25    2   \n",
       "\n",
       "           Value          AAV   Sign Bonus G'teed @ Sign Practical G'teed  \n",
       "0   $126,700,000  $18,100,000          NaN   $38,000,000      $54,000,000  \n",
       "1   $103,800,000  $20,760,000  $22,500,000   $41,000,000      $60,000,000  \n",
       "2    $96,000,000  $16,000,000  $12,000,000   $17,000,000      $17,000,000  \n",
       "3    $84,000,000  $28,000,000   $3,000,000   $84,000,000      $84,000,000  \n",
       "4    $77,000,000  $19,250,000  $11,500,000   $21,500,000      $45,000,000  \n",
       "..           ...          ...          ...           ...              ...  \n",
       "95    $9,476,296   $2,369,074   $5,091,852    $7,884,074       $7,884,074  \n",
       "96    $9,000,000   $3,000,000          NaN    $3,000,000       $3,000,000  \n",
       "97    $9,000,000   $9,000,000   $1,000,000    $8,000,000       $8,000,000  \n",
       "98    $9,000,000   $3,000,000   $1,600,000    $1,600,000       $1,600,000  \n",
       "99    $9,000,000   $4,500,000   $3,500,000    $3,500,000       $3,500,000  \n",
       "\n",
       "[100 rows x 9 columns]"
      ]
     },
     "execution_count": 56,
     "metadata": {},
     "output_type": "execute_result"
    }
   ],
   "source": [
    "table_contracts = pd.read_html('https://www.spotrac.com/nfl/contracts/sort-value/offense/all-time/free-agent-2021/limit-100/')\n",
    "\n",
    "player_contracts = table_contracts[0]\n",
    "player_contracts"
   ]
  }
 ],
 "metadata": {
  "kernelspec": {
   "display_name": "ml-0451",
   "language": "python",
   "name": "python3"
  },
  "language_info": {
   "codemirror_mode": {
    "name": "ipython",
    "version": 3
   },
   "file_extension": ".py",
   "mimetype": "text/x-python",
   "name": "python",
   "nbconvert_exporter": "python",
   "pygments_lexer": "ipython3",
   "version": "3.9.16"
  },
  "orig_nbformat": 4
 },
 "nbformat": 4,
 "nbformat_minor": 2
}
