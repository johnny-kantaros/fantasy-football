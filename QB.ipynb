{
 "cells": [
  {
   "attachments": {},
   "cell_type": "markdown",
   "metadata": {},
   "source": [
    "### QB using Fantasy Pros stats"
   ]
  },
  {
   "cell_type": "code",
   "execution_count": 10,
   "metadata": {},
   "outputs": [
    {
     "name": "stdout",
     "output_type": "stream",
     "text": [
      "The autoreload extension is already loaded. To reload it, use:\n",
      "  %reload_ext autoreload\n"
     ]
    }
   ],
   "source": [
    "%load_ext autoreload\n",
    "%autoreload 2"
   ]
  },
  {
   "cell_type": "code",
   "execution_count": 11,
   "metadata": {},
   "outputs": [],
   "source": [
    "import pandas as pd\n",
    "pd.options.display.max_columns = None # See all columns\n",
    "import warnings\n",
    "warnings.filterwarnings('ignore')\n",
    "from fantasy_football import Fantasy\n",
    "\n",
    "# Import fantasy class which will be used for building datasets\n",
    "football = Fantasy()"
   ]
  },
  {
   "attachments": {},
   "cell_type": "markdown",
   "metadata": {},
   "source": [
    "The bulk of the preprocessing logic can be found in the source code."
   ]
  },
  {
   "attachments": {},
   "cell_type": "markdown",
   "metadata": {},
   "source": [
    "##### To make our dataset, lets pull quarterbacks from the last ~10 years"
   ]
  },
  {
   "cell_type": "code",
   "execution_count": 12,
   "metadata": {},
   "outputs": [],
   "source": [
    "QB_2021 = football.prepare_QB(\"2021\")\n",
    "QB_2020 = football.prepare_QB(\"2020\")\n",
    "QB_2019 = football.prepare_QB(\"2019\")\n",
    "QB_2018 = football.prepare_QB(\"2018\")\n",
    "QB_2017 = football.prepare_QB(\"2017\")\n",
    "QB_2016 = football.prepare_QB(\"2016\")\n",
    "QB_2015 = football.prepare_QB(\"2015\")\n",
    "QB_2014 = football.prepare_QB(\"2014\")\n",
    "QB_2013 = football.prepare_QB(\"2013\")"
   ]
  },
  {
   "cell_type": "code",
   "execution_count": null,
   "metadata": {},
   "outputs": [],
   "source": [
    "all_QB = [QB_2021, QB_2020, QB_2019, QB_2018,\n",
    "          QB_2017, QB_2016, QB_2015, QB_2014, QB_2013]\n",
    "\n",
    "QB = pd.concat(all_QB, ignore_index=True)\n",
    "QB"
   ]
  },
  {
   "cell_type": "code",
   "execution_count": 147,
   "metadata": {},
   "outputs": [],
   "source": [
    "from sklearn.model_selection import train_test_split\n",
    "X_train, X_test, y_train, y_test = train_test_split(QB_model_X, QB_model_Y,\n",
    "                                   random_state=104, \n",
    "                                   test_size=0.5, \n",
    "                                   shuffle=True)"
   ]
  },
  {
   "cell_type": "code",
   "execution_count": 150,
   "metadata": {},
   "outputs": [
    {
     "name": "stdout",
     "output_type": "stream",
     "text": [
      "coefficient of determination: 1.0\n",
      "intercept: [35.85644187]\n",
      "slope: [[-0.11902523  0.31915763 -1.11499423  0.04393625  0.14968442 -0.32324969\n",
      "  -0.23083102  0.40671704 -0.52550493  0.5387646  -0.05726771 -0.08276165\n",
      "   0.13043264  0.3928148   0.05342105 -0.08291268 -1.37601774  0.06679482\n",
      "   0.06679482  0.37299061  0.01838952  0.01341496 -0.04217031  0.01986795\n",
      "  -0.00691065 -0.02222361 -0.00147843 -0.01187943]]\n"
     ]
    }
   ],
   "source": [
    "from sklearn.linear_model import LinearRegression\n",
    "\n",
    "model = LinearRegression()\n",
    "model.fit(X_train, y_train)\n",
    "r_sq = model.score(X_train, y_train)\n",
    "print(f\"coefficient of determination: {r_sq}\")\n",
    "print(f\"intercept: {model.intercept_}\")\n",
    "print(f\"slope: {model.coef_}\")"
   ]
  },
  {
   "cell_type": "code",
   "execution_count": 152,
   "metadata": {},
   "outputs": [
    {
     "data": {
      "text/plain": [
       "-0.7414152292978844"
      ]
     },
     "execution_count": 152,
     "metadata": {},
     "output_type": "execute_result"
    }
   ],
   "source": [
    "model.score(X_test, y_test)"
   ]
  },
  {
   "cell_type": "code",
   "execution_count": 207,
   "metadata": {},
   "outputs": [
    {
     "data": {
      "text/html": [
       "<div>\n",
       "<style scoped>\n",
       "    .dataframe tbody tr th:only-of-type {\n",
       "        vertical-align: middle;\n",
       "    }\n",
       "\n",
       "    .dataframe tbody tr th {\n",
       "        vertical-align: top;\n",
       "    }\n",
       "\n",
       "    .dataframe thead th {\n",
       "        text-align: right;\n",
       "    }\n",
       "</style>\n",
       "<table border=\"1\" class=\"dataframe\">\n",
       "  <thead>\n",
       "    <tr style=\"text-align: right;\">\n",
       "      <th></th>\n",
       "      <th>points</th>\n",
       "      <th>predicted</th>\n",
       "      <th>difference</th>\n",
       "    </tr>\n",
       "  </thead>\n",
       "  <tbody>\n",
       "    <tr>\n",
       "      <th>25</th>\n",
       "      <td>270.96</td>\n",
       "      <td>25    353.5\n",
       "dtype: float64</td>\n",
       "      <td>25   -82.54\n",
       "dtype: float64</td>\n",
       "    </tr>\n",
       "    <tr>\n",
       "      <th>35</th>\n",
       "      <td>209.68</td>\n",
       "      <td>35    236.8\n",
       "dtype: float64</td>\n",
       "      <td>35   -27.12\n",
       "dtype: float64</td>\n",
       "    </tr>\n",
       "    <tr>\n",
       "      <th>16</th>\n",
       "      <td>307.34</td>\n",
       "      <td>16    308.6\n",
       "dtype: float64</td>\n",
       "      <td>16   -1.26\n",
       "dtype: float64</td>\n",
       "    </tr>\n",
       "    <tr>\n",
       "      <th>33</th>\n",
       "      <td>202.50</td>\n",
       "      <td>33    234.4\n",
       "dtype: float64</td>\n",
       "      <td>33   -31.9\n",
       "dtype: float64</td>\n",
       "    </tr>\n",
       "    <tr>\n",
       "      <th>15</th>\n",
       "      <td>234.92</td>\n",
       "      <td>15    248.4\n",
       "dtype: float64</td>\n",
       "      <td>15   -13.48\n",
       "dtype: float64</td>\n",
       "    </tr>\n",
       "    <tr>\n",
       "      <th>2</th>\n",
       "      <td>248.82</td>\n",
       "      <td>2    235.1\n",
       "dtype: float64</td>\n",
       "      <td>2    13.72\n",
       "dtype: float64</td>\n",
       "    </tr>\n",
       "    <tr>\n",
       "      <th>12</th>\n",
       "      <td>321.16</td>\n",
       "      <td>12    199.6\n",
       "dtype: float64</td>\n",
       "      <td>12    121.56\n",
       "dtype: float64</td>\n",
       "    </tr>\n",
       "    <tr>\n",
       "      <th>29</th>\n",
       "      <td>170.28</td>\n",
       "      <td>29    129.1\n",
       "dtype: float64</td>\n",
       "      <td>29    41.18\n",
       "dtype: float64</td>\n",
       "    </tr>\n",
       "    <tr>\n",
       "      <th>27</th>\n",
       "      <td>265.02</td>\n",
       "      <td>27    189.4\n",
       "dtype: float64</td>\n",
       "      <td>27    75.62\n",
       "dtype: float64</td>\n",
       "    </tr>\n",
       "    <tr>\n",
       "      <th>31</th>\n",
       "      <td>185.50</td>\n",
       "      <td>31    64.6\n",
       "dtype: float64</td>\n",
       "      <td>31    120.9\n",
       "dtype: float64</td>\n",
       "    </tr>\n",
       "    <tr>\n",
       "      <th>17</th>\n",
       "      <td>193.90</td>\n",
       "      <td>17    180.4\n",
       "dtype: float64</td>\n",
       "      <td>17    13.5\n",
       "dtype: float64</td>\n",
       "    </tr>\n",
       "  </tbody>\n",
       "</table>\n",
       "</div>"
      ],
      "text/plain": [
       "    points                   predicted                   difference\n",
       "25  270.96  25    353.5\n",
       "dtype: float64   25   -82.54\n",
       "dtype: float64\n",
       "35  209.68  35    236.8\n",
       "dtype: float64   35   -27.12\n",
       "dtype: float64\n",
       "16  307.34  16    308.6\n",
       "dtype: float64    16   -1.26\n",
       "dtype: float64\n",
       "33  202.50  33    234.4\n",
       "dtype: float64    33   -31.9\n",
       "dtype: float64\n",
       "15  234.92  15    248.4\n",
       "dtype: float64   15   -13.48\n",
       "dtype: float64\n",
       "2   248.82   2    235.1\n",
       "dtype: float64    2    13.72\n",
       "dtype: float64\n",
       "12  321.16  12    199.6\n",
       "dtype: float64  12    121.56\n",
       "dtype: float64\n",
       "29  170.28  29    129.1\n",
       "dtype: float64   29    41.18\n",
       "dtype: float64\n",
       "27  265.02  27    189.4\n",
       "dtype: float64   27    75.62\n",
       "dtype: float64\n",
       "31  185.50   31    64.6\n",
       "dtype: float64   31    120.9\n",
       "dtype: float64\n",
       "17  193.90  17    180.4\n",
       "dtype: float64    17    13.5\n",
       "dtype: float64"
      ]
     },
     "execution_count": 207,
     "metadata": {},
     "output_type": "execute_result"
    }
   ],
   "source": [
    "values = model.coef_\n",
    "predicted = []\n",
    "for i in range(len(X_test)):\n",
    "    inputs = X_test.take([i])\n",
    "    inputs = inputs.loc[:, ~inputs.columns.isin(['Player', 'Name', 'Pos', 'Tm', 'points'])]\n",
    "    inputs.columns\n",
    "    combined = (inputs * values)\n",
    "    f_points = round(combined.sum(axis = 1), 1)\n",
    "    predicted.append(f_points)\n",
    "\n",
    "y_test['predicted'] = predicted\n",
    "\n",
    "y_test['difference'] = y_test['points'] - y_test['predicted']\n",
    "y_test"
   ]
  }
 ],
 "metadata": {
  "kernelspec": {
   "display_name": "ml-0451",
   "language": "python",
   "name": "python3"
  },
  "language_info": {
   "codemirror_mode": {
    "name": "ipython",
    "version": 3
   },
   "file_extension": ".py",
   "mimetype": "text/x-python",
   "name": "python",
   "nbconvert_exporter": "python",
   "pygments_lexer": "ipython3",
   "version": "3.9.16"
  },
  "orig_nbformat": 4
 },
 "nbformat": 4,
 "nbformat_minor": 2
}
