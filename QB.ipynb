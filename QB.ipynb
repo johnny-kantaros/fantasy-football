{
 "cells": [
  {
   "attachments": {},
   "cell_type": "markdown",
   "metadata": {},
   "source": [
    "## Quarterbacks"
   ]
  },
  {
   "cell_type": "code",
   "execution_count": 1,
   "metadata": {},
   "outputs": [],
   "source": [
    "%load_ext autoreload\n",
    "%autoreload 2"
   ]
  },
  {
   "cell_type": "code",
   "execution_count": 2,
   "metadata": {},
   "outputs": [],
   "source": [
    "import pandas as pd\n",
    "import warnings\n",
    "warnings.filterwarnings('ignore')\n",
    "from fantasy_football import Fantasy\n",
    "\n",
    "# Import fantasy class which will be used for building datasets\n",
    "football = Fantasy()"
   ]
  },
  {
   "attachments": {},
   "cell_type": "markdown",
   "metadata": {},
   "source": [
    "First, we pull 2022 offense data and clean it"
   ]
  },
  {
   "cell_type": "code",
   "execution_count": 19,
   "metadata": {},
   "outputs": [
    {
     "name": "stdout",
     "output_type": "stream",
     "text": [
      "Offense_2020\n",
      "Offense_Proj\n",
      "Offense_Prior_Actuals\n",
      "Offense_Proj\n"
     ]
    }
   ],
   "source": [
    "df, y = Fantasy.read_data('2021')"
   ]
  },
  {
   "cell_type": "code",
   "execution_count": 20,
   "metadata": {},
   "outputs": [
    {
     "name": "stdout",
     "output_type": "stream",
     "text": [
      "           Player  points\n",
      "0        J. Allen  417.58\n",
      "1      J. Herbert  395.76\n",
      "2      P. Mahomes  374.66\n",
      "3        T. Brady  386.74\n",
      "4       J. Burrow  328.24\n",
      "..            ...     ...\n",
      "370  E. St. Brown   11.20\n",
      "371     P. Taylor   15.20\n",
      "372      K. Smith    8.70\n",
      "373    G. Gilbert    7.76\n",
      "374      D. Brown   16.10\n",
      "\n",
      "[375 rows x 2 columns]\n"
     ]
    }
   ],
   "source": [
    "# print(y)"
   ]
  },
  {
   "cell_type": "code",
   "execution_count": 12,
   "metadata": {},
   "outputs": [],
   "source": [
    "# df_year_2, y_2 = Fantasy.read_data('2022')"
   ]
  },
  {
   "attachments": {},
   "cell_type": "markdown",
   "metadata": {},
   "source": [
    "Split data by positional group"
   ]
  },
  {
   "cell_type": "code",
   "execution_count": 4,
   "metadata": {},
   "outputs": [],
   "source": [
    "QB_data = football.makeRegularData(df, \"QB\")\n"
   ]
  },
  {
   "attachments": {},
   "cell_type": "markdown",
   "metadata": {},
   "source": [
    "Next, we pull more advanced data for rushing and passing"
   ]
  },
  {
   "cell_type": "code",
   "execution_count": 40,
   "metadata": {},
   "outputs": [],
   "source": [
    "# Passing advanced\n",
    "passing_advanced = football.getAdvancedStats(\"passing\", \"2021\")"
   ]
  },
  {
   "attachments": {},
   "cell_type": "markdown",
   "metadata": {},
   "source": [
    "Now we are ready to merge the datasets to incorporate the more advance statistics"
   ]
  },
  {
   "cell_type": "code",
   "execution_count": 109,
   "metadata": {},
   "outputs": [],
   "source": [
    "QB1 = football.addAdvanced(QB_data, passing_advanced)\n",
    "QB_merged = football.simpleMerge(QB1, y)\n",
    "QB_final = football.fix_columns_QB(QB_merged)\n",
    "QB_final = QB_final.loc[:,~QB_final.columns.duplicated()]\n",
    "QB_final = QB_final[QB_final['GP'] != '-']\n"
   ]
  },
  {
   "cell_type": "code",
   "execution_count": 112,
   "metadata": {},
   "outputs": [
    {
     "data": {
      "text/plain": [
       "pandas.core.frame.DataFrame"
      ]
     },
     "execution_count": 112,
     "metadata": {},
     "output_type": "execute_result"
    }
   ],
   "source": [
    "type(QB_final)"
   ]
  },
  {
   "cell_type": "code",
   "execution_count": 114,
   "metadata": {},
   "outputs": [],
   "source": [
    "QB_model_X = QB_final.loc[:, ~QB_final.columns.isin(['Player', 'Name', 'Pos', 'Tm', 'points'])]\n",
    "QB_model_Y = QB_final.loc[:, QB_final.columns.isin(['points'])]"
   ]
  },
  {
   "cell_type": "code",
   "execution_count": 116,
   "metadata": {},
   "outputs": [
    {
     "data": {
      "text/plain": [
       "Index(['GP', 'Comp', 'Inc', 'Passing_Yds', 'Passing_Td', 'Int', 'Pic6', 'Sks',\n",
       "       'Passing_1st', 'Att', 'Rushing_Yds', 'Rushing_Td', 'Rushing_1st',\n",
       "       'Total', 'Lost', 'Rk', 'Age', 'G', 'GS', 'Cmp', 'Yds', 'IAY', 'IAY/PA',\n",
       "       'CAY', 'CAY/Cmp', 'CAY/PA', 'YAC', 'YAC/Cmp'],\n",
       "      dtype='object')"
      ]
     },
     "execution_count": 116,
     "metadata": {},
     "output_type": "execute_result"
    }
   ],
   "source": [
    "QB_model_X.columns"
   ]
  },
  {
   "cell_type": "code",
   "execution_count": 117,
   "metadata": {},
   "outputs": [],
   "source": [
    "from sklearn.model_selection import train_test_split\n",
    "X_train, X_test, y_train, y_test = train_test_split(QB_model_X, QB_model_Y,\n",
    "                                   random_state=104, \n",
    "                                   test_size=0.2, \n",
    "                                   shuffle=True)"
   ]
  },
  {
   "cell_type": "code",
   "execution_count": 78,
   "metadata": {},
   "outputs": [],
   "source": [
    "# X_train"
   ]
  },
  {
   "cell_type": "code",
   "execution_count": 118,
   "metadata": {},
   "outputs": [
    {
     "data": {
      "text/plain": [
       "Index(['GP', 'Comp', 'Inc', 'Passing_Yds', 'Passing_Td', 'Int', 'Pic6', 'Sks',\n",
       "       'Passing_1st', 'Att', 'Rushing_Yds', 'Rushing_Td', 'Rushing_1st',\n",
       "       'Total', 'Lost', 'Rk', 'Age', 'G', 'GS', 'Cmp', 'Yds', 'IAY', 'IAY/PA',\n",
       "       'CAY', 'CAY/Cmp', 'CAY/PA', 'YAC', 'YAC/Cmp'],\n",
       "      dtype='object')"
      ]
     },
     "execution_count": 118,
     "metadata": {},
     "output_type": "execute_result"
    }
   ],
   "source": [
    "X_train.columns"
   ]
  },
  {
   "cell_type": "code",
   "execution_count": 119,
   "metadata": {},
   "outputs": [
    {
     "ename": "ValueError",
     "evalue": "Unknown label type: 'continuous'",
     "output_type": "error",
     "traceback": [
      "\u001b[0;31m---------------------------------------------------------------------------\u001b[0m",
      "\u001b[0;31mValueError\u001b[0m                                Traceback (most recent call last)",
      "Cell \u001b[0;32mIn[119], line 4\u001b[0m\n\u001b[1;32m      1\u001b[0m \u001b[39mfrom\u001b[39;00m \u001b[39msklearn\u001b[39;00m\u001b[39m.\u001b[39;00m\u001b[39mlinear_model\u001b[39;00m \u001b[39mimport\u001b[39;00m LogisticRegression\n\u001b[1;32m      3\u001b[0m model \u001b[39m=\u001b[39m LogisticRegression(solver\u001b[39m=\u001b[39m\u001b[39m'\u001b[39m\u001b[39mliblinear\u001b[39m\u001b[39m'\u001b[39m, random_state\u001b[39m=\u001b[39m\u001b[39m0\u001b[39m)\n\u001b[0;32m----> 4\u001b[0m model\u001b[39m.\u001b[39;49mfit(X_train, y_train)\n",
      "File \u001b[0;32m~/opt/anaconda3/envs/ml-0451/lib/python3.9/site-packages/sklearn/linear_model/_logistic.py:1204\u001b[0m, in \u001b[0;36mLogisticRegression.fit\u001b[0;34m(self, X, y, sample_weight)\u001b[0m\n\u001b[1;32m   1194\u001b[0m     _dtype \u001b[39m=\u001b[39m [np\u001b[39m.\u001b[39mfloat64, np\u001b[39m.\u001b[39mfloat32]\n\u001b[1;32m   1196\u001b[0m X, y \u001b[39m=\u001b[39m \u001b[39mself\u001b[39m\u001b[39m.\u001b[39m_validate_data(\n\u001b[1;32m   1197\u001b[0m     X,\n\u001b[1;32m   1198\u001b[0m     y,\n\u001b[0;32m   (...)\u001b[0m\n\u001b[1;32m   1202\u001b[0m     accept_large_sparse\u001b[39m=\u001b[39msolver \u001b[39mnot\u001b[39;00m \u001b[39min\u001b[39;00m [\u001b[39m\"\u001b[39m\u001b[39mliblinear\u001b[39m\u001b[39m\"\u001b[39m, \u001b[39m\"\u001b[39m\u001b[39msag\u001b[39m\u001b[39m\"\u001b[39m, \u001b[39m\"\u001b[39m\u001b[39msaga\u001b[39m\u001b[39m\"\u001b[39m],\n\u001b[1;32m   1203\u001b[0m )\n\u001b[0;32m-> 1204\u001b[0m check_classification_targets(y)\n\u001b[1;32m   1205\u001b[0m \u001b[39mself\u001b[39m\u001b[39m.\u001b[39mclasses_ \u001b[39m=\u001b[39m np\u001b[39m.\u001b[39munique(y)\n\u001b[1;32m   1207\u001b[0m multi_class \u001b[39m=\u001b[39m _check_multi_class(\u001b[39mself\u001b[39m\u001b[39m.\u001b[39mmulti_class, solver, \u001b[39mlen\u001b[39m(\u001b[39mself\u001b[39m\u001b[39m.\u001b[39mclasses_))\n",
      "File \u001b[0;32m~/opt/anaconda3/envs/ml-0451/lib/python3.9/site-packages/sklearn/utils/multiclass.py:207\u001b[0m, in \u001b[0;36mcheck_classification_targets\u001b[0;34m(y)\u001b[0m\n\u001b[1;32m    199\u001b[0m y_type \u001b[39m=\u001b[39m type_of_target(y, input_name\u001b[39m=\u001b[39m\u001b[39m\"\u001b[39m\u001b[39my\u001b[39m\u001b[39m\"\u001b[39m)\n\u001b[1;32m    200\u001b[0m \u001b[39mif\u001b[39;00m y_type \u001b[39mnot\u001b[39;00m \u001b[39min\u001b[39;00m [\n\u001b[1;32m    201\u001b[0m     \u001b[39m\"\u001b[39m\u001b[39mbinary\u001b[39m\u001b[39m\"\u001b[39m,\n\u001b[1;32m    202\u001b[0m     \u001b[39m\"\u001b[39m\u001b[39mmulticlass\u001b[39m\u001b[39m\"\u001b[39m,\n\u001b[0;32m   (...)\u001b[0m\n\u001b[1;32m    205\u001b[0m     \u001b[39m\"\u001b[39m\u001b[39mmultilabel-sequences\u001b[39m\u001b[39m\"\u001b[39m,\n\u001b[1;32m    206\u001b[0m ]:\n\u001b[0;32m--> 207\u001b[0m     \u001b[39mraise\u001b[39;00m \u001b[39mValueError\u001b[39;00m(\u001b[39m\"\u001b[39m\u001b[39mUnknown label type: \u001b[39m\u001b[39m%r\u001b[39;00m\u001b[39m\"\u001b[39m \u001b[39m%\u001b[39m y_type)\n",
      "\u001b[0;31mValueError\u001b[0m: Unknown label type: 'continuous'"
     ]
    }
   ],
   "source": [
    "from sklearn.linear_model import LinearRegression\n",
    "\n",
    "model = LinearRegression()\n",
    "model.fit(X_train, y_train)"
   ]
  },
  {
   "attachments": {},
   "cell_type": "markdown",
   "metadata": {},
   "source": [
    "### CONTRACTS AND OTHER DATA (not yet completed)"
   ]
  },
  {
   "attachments": {},
   "cell_type": "markdown",
   "metadata": {},
   "source": [
    "We are not using the player contracts yet but here is where we scrape that data"
   ]
  },
  {
   "cell_type": "code",
   "execution_count": 7,
   "metadata": {},
   "outputs": [
    {
     "data": {
      "text/html": [
       "<div>\n",
       "<style scoped>\n",
       "    .dataframe tbody tr th:only-of-type {\n",
       "        vertical-align: middle;\n",
       "    }\n",
       "\n",
       "    .dataframe tbody tr th {\n",
       "        vertical-align: top;\n",
       "    }\n",
       "\n",
       "    .dataframe thead th {\n",
       "        text-align: right;\n",
       "    }\n",
       "</style>\n",
       "<table border=\"1\" class=\"dataframe\">\n",
       "  <thead>\n",
       "    <tr style=\"text-align: right;\">\n",
       "      <th></th>\n",
       "      <th>Rank</th>\n",
       "      <th>Player</th>\n",
       "      <th>Signed Age</th>\n",
       "      <th>Yrs</th>\n",
       "      <th>Value</th>\n",
       "      <th>AAV</th>\n",
       "      <th>Sign Bonus</th>\n",
       "      <th>G'teed @ Sign</th>\n",
       "      <th>Practical G'teed</th>\n",
       "    </tr>\n",
       "  </thead>\n",
       "  <tbody>\n",
       "    <tr>\n",
       "      <th>0</th>\n",
       "      <td>1</td>\n",
       "      <td>Jay Cutler  Quarterback | 2014-2020 (FA: 2021)...</td>\n",
       "      <td>30</td>\n",
       "      <td>7</td>\n",
       "      <td>$126,700,000</td>\n",
       "      <td>$18,100,000</td>\n",
       "      <td>NaN</td>\n",
       "      <td>$38,000,000</td>\n",
       "      <td>$54,000,000</td>\n",
       "    </tr>\n",
       "    <tr>\n",
       "      <th>1</th>\n",
       "      <td>2</td>\n",
       "      <td>Cam Newton  Quarterback | 2015-2020 (FA: 2021)</td>\n",
       "      <td>26</td>\n",
       "      <td>5</td>\n",
       "      <td>$103,800,000</td>\n",
       "      <td>$20,760,000</td>\n",
       "      <td>$22,500,000</td>\n",
       "      <td>$41,000,000</td>\n",
       "      <td>$60,000,000</td>\n",
       "    </tr>\n",
       "    <tr>\n",
       "      <th>2</th>\n",
       "      <td>3</td>\n",
       "      <td>Andy Dalton  Quarterback | 2014-2020 (FA: 2021...</td>\n",
       "      <td>26</td>\n",
       "      <td>6</td>\n",
       "      <td>$96,000,000</td>\n",
       "      <td>$16,000,000</td>\n",
       "      <td>$12,000,000</td>\n",
       "      <td>$17,000,000</td>\n",
       "      <td>$17,000,000</td>\n",
       "    </tr>\n",
       "    <tr>\n",
       "      <th>3</th>\n",
       "      <td>4</td>\n",
       "      <td>Kirk Cousins  Quarterback | 2018-2020 (FA: 2021)</td>\n",
       "      <td>29</td>\n",
       "      <td>3</td>\n",
       "      <td>$84,000,000</td>\n",
       "      <td>$28,000,000</td>\n",
       "      <td>$3,000,000</td>\n",
       "      <td>$84,000,000</td>\n",
       "      <td>$84,000,000</td>\n",
       "    </tr>\n",
       "    <tr>\n",
       "      <th>4</th>\n",
       "      <td>5</td>\n",
       "      <td>Ryan Tannehill  Quarterback | 2015-2020 (FA: 2...</td>\n",
       "      <td>26</td>\n",
       "      <td>4</td>\n",
       "      <td>$77,000,000</td>\n",
       "      <td>$19,250,000</td>\n",
       "      <td>$11,500,000</td>\n",
       "      <td>$21,500,000</td>\n",
       "      <td>$45,000,000</td>\n",
       "    </tr>\n",
       "    <tr>\n",
       "      <th>...</th>\n",
       "      <td>...</td>\n",
       "      <td>...</td>\n",
       "      <td>...</td>\n",
       "      <td>...</td>\n",
       "      <td>...</td>\n",
       "      <td>...</td>\n",
       "      <td>...</td>\n",
       "      <td>...</td>\n",
       "      <td>...</td>\n",
       "    </tr>\n",
       "    <tr>\n",
       "      <th>95</th>\n",
       "      <td>96</td>\n",
       "      <td>Paxton Lynch  Quarterback | 2016-2020 (FA: 202...</td>\n",
       "      <td>22</td>\n",
       "      <td>4</td>\n",
       "      <td>$9,476,296</td>\n",
       "      <td>$2,369,074</td>\n",
       "      <td>$5,091,852</td>\n",
       "      <td>$7,884,074</td>\n",
       "      <td>$7,884,074</td>\n",
       "    </tr>\n",
       "    <tr>\n",
       "      <th>96</th>\n",
       "      <td>97</td>\n",
       "      <td>Lee Smith  Tight End | 2018-2020 (FA: 2021)  O...</td>\n",
       "      <td>30</td>\n",
       "      <td>3</td>\n",
       "      <td>$9,000,000</td>\n",
       "      <td>$3,000,000</td>\n",
       "      <td>NaN</td>\n",
       "      <td>$3,000,000</td>\n",
       "      <td>$3,000,000</td>\n",
       "    </tr>\n",
       "    <tr>\n",
       "      <th>97</th>\n",
       "      <td>97</td>\n",
       "      <td>Sammy Watkins  Wide Receiver | 2020-2020 (FA: ...</td>\n",
       "      <td>26</td>\n",
       "      <td>1</td>\n",
       "      <td>$9,000,000</td>\n",
       "      <td>$9,000,000</td>\n",
       "      <td>$1,000,000</td>\n",
       "      <td>$8,000,000</td>\n",
       "      <td>$8,000,000</td>\n",
       "    </tr>\n",
       "    <tr>\n",
       "      <th>98</th>\n",
       "      <td>97</td>\n",
       "      <td>Donte Moncrief  Wide Receiver | 2019-2020 (FA:...</td>\n",
       "      <td>25</td>\n",
       "      <td>2</td>\n",
       "      <td>$9,000,000</td>\n",
       "      <td>$4,500,000</td>\n",
       "      <td>$3,500,000</td>\n",
       "      <td>$3,500,000</td>\n",
       "      <td>$3,500,000</td>\n",
       "    </tr>\n",
       "    <tr>\n",
       "      <th>99</th>\n",
       "      <td>97</td>\n",
       "      <td>Mike Pouncey  Center | 2019-2020 (FA: 2021)  O...</td>\n",
       "      <td>30</td>\n",
       "      <td>1</td>\n",
       "      <td>$9,000,000</td>\n",
       "      <td>$9,000,000</td>\n",
       "      <td>$2,500,000</td>\n",
       "      <td>$5,000,000</td>\n",
       "      <td>$5,000,000</td>\n",
       "    </tr>\n",
       "  </tbody>\n",
       "</table>\n",
       "<p>100 rows × 9 columns</p>\n",
       "</div>"
      ],
      "text/plain": [
       "    Rank                                             Player  Signed Age  Yrs  \\\n",
       "0      1  Jay Cutler  Quarterback | 2014-2020 (FA: 2021)...          30    7   \n",
       "1      2     Cam Newton  Quarterback | 2015-2020 (FA: 2021)          26    5   \n",
       "2      3  Andy Dalton  Quarterback | 2014-2020 (FA: 2021...          26    6   \n",
       "3      4   Kirk Cousins  Quarterback | 2018-2020 (FA: 2021)          29    3   \n",
       "4      5  Ryan Tannehill  Quarterback | 2015-2020 (FA: 2...          26    4   \n",
       "..   ...                                                ...         ...  ...   \n",
       "95    96  Paxton Lynch  Quarterback | 2016-2020 (FA: 202...          22    4   \n",
       "96    97  Lee Smith  Tight End | 2018-2020 (FA: 2021)  O...          30    3   \n",
       "97    97  Sammy Watkins  Wide Receiver | 2020-2020 (FA: ...          26    1   \n",
       "98    97  Donte Moncrief  Wide Receiver | 2019-2020 (FA:...          25    2   \n",
       "99    97  Mike Pouncey  Center | 2019-2020 (FA: 2021)  O...          30    1   \n",
       "\n",
       "           Value          AAV   Sign Bonus G'teed @ Sign Practical G'teed  \n",
       "0   $126,700,000  $18,100,000          NaN   $38,000,000      $54,000,000  \n",
       "1   $103,800,000  $20,760,000  $22,500,000   $41,000,000      $60,000,000  \n",
       "2    $96,000,000  $16,000,000  $12,000,000   $17,000,000      $17,000,000  \n",
       "3    $84,000,000  $28,000,000   $3,000,000   $84,000,000      $84,000,000  \n",
       "4    $77,000,000  $19,250,000  $11,500,000   $21,500,000      $45,000,000  \n",
       "..           ...          ...          ...           ...              ...  \n",
       "95    $9,476,296   $2,369,074   $5,091,852    $7,884,074       $7,884,074  \n",
       "96    $9,000,000   $3,000,000          NaN    $3,000,000       $3,000,000  \n",
       "97    $9,000,000   $9,000,000   $1,000,000    $8,000,000       $8,000,000  \n",
       "98    $9,000,000   $4,500,000   $3,500,000    $3,500,000       $3,500,000  \n",
       "99    $9,000,000   $9,000,000   $2,500,000    $5,000,000       $5,000,000  \n",
       "\n",
       "[100 rows x 9 columns]"
      ]
     },
     "execution_count": 7,
     "metadata": {},
     "output_type": "execute_result"
    }
   ],
   "source": [
    "table_contracts = pd.read_html('https://www.spotrac.com/nfl/contracts/sort-value/offense/all-time/free-agent-2021/limit-100/')\n",
    "\n",
    "player_contracts = table_contracts[0]\n",
    "player_contracts"
   ]
  }
 ],
 "metadata": {
  "kernelspec": {
   "display_name": "ml-0451",
   "language": "python",
   "name": "python3"
  },
  "language_info": {
   "codemirror_mode": {
    "name": "ipython",
    "version": 3
   },
   "file_extension": ".py",
   "mimetype": "text/x-python",
   "name": "python",
   "nbconvert_exporter": "python",
   "pygments_lexer": "ipython3",
   "version": "3.9.16"
  },
  "orig_nbformat": 4
 },
 "nbformat": 4,
 "nbformat_minor": 2
}
