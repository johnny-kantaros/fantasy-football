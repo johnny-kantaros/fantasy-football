{
 "cells": [
  {
   "attachments": {},
   "cell_type": "markdown",
   "metadata": {},
   "source": [
    "## Data collection and imputation"
   ]
  },
  {
   "cell_type": "code",
   "execution_count": 1,
   "metadata": {},
   "outputs": [],
   "source": [
    "import pandas as pd"
   ]
  },
  {
   "cell_type": "code",
   "execution_count": 11,
   "metadata": {},
   "outputs": [
    {
     "name": "stdout",
     "output_type": "stream",
     "text": [
      "Player\n",
      "Pos\n",
      "Team\n",
      "Bye\n",
      "Notes\n",
      "Rank\n",
      "Y! Roto\n",
      "Δ\n",
      "Y! Old\n",
      "Std\n",
      "Δ.1\n",
      "Std Old\n",
      "PPR\n",
      "Δ.2\n",
      "PPR Old\n",
      "% Own\n",
      "GP\n",
      "GS\n",
      "Comp\n",
      "Inc\n",
      "Yds\n",
      "TD\n",
      "Int\n",
      "Pic6\n",
      "Sks\n",
      "1st\n",
      "Att\n",
      "Yds.1\n",
      "TD.1\n",
      "1st.1\n",
      "Tgt\n",
      "Rec\n",
      "Yds.2\n",
      "TD.2\n",
      "1st.2\n",
      "Yds.3\n",
      "TD.3\n",
      "2PT\n",
      "Total\n",
      "Lost\n",
      "Fan Pts\n",
      "PPG\n"
     ]
    },
    {
     "name": "stderr",
     "output_type": "stream",
     "text": [
      "/Users/johnnykantaros/opt/anaconda3/envs/ml-0451/lib/python3.9/site-packages/openpyxl/worksheet/_reader.py:329: UserWarning: Conditional Formatting extension is not supported and will be removed\n",
      "  warn(msg)\n"
     ]
    }
   ],
   "source": [
    "df = pd.read_excel('2022-offense.xlsx', sheet_name='Offense_Prior_Actuals', header=3)\n",
    "\n",
    "for i in df.columns.tolist():\n",
    "    print(i)"
   ]
  },
  {
   "cell_type": "code",
   "execution_count": null,
   "metadata": {},
   "outputs": [],
   "source": []
  }
 ],
 "metadata": {
  "kernelspec": {
   "display_name": "ml-0451",
   "language": "python",
   "name": "python3"
  },
  "language_info": {
   "codemirror_mode": {
    "name": "ipython",
    "version": 3
   },
   "file_extension": ".py",
   "mimetype": "text/x-python",
   "name": "python",
   "nbconvert_exporter": "python",
   "pygments_lexer": "ipython3",
   "version": "3.9.16"
  },
  "orig_nbformat": 4
 },
 "nbformat": 4,
 "nbformat_minor": 2
}
