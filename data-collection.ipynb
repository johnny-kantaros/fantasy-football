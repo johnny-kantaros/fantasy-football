{
 "cells": [
  {
   "attachments": {},
   "cell_type": "markdown",
   "metadata": {},
   "source": [
    "### Data collection"
   ]
  },
  {
   "cell_type": "code",
   "execution_count": 46,
   "metadata": {},
   "outputs": [
    {
     "name": "stdout",
     "output_type": "stream",
     "text": [
      "The autoreload extension is already loaded. To reload it, use:\n",
      "  %reload_ext autoreload\n"
     ]
    }
   ],
   "source": [
    "%load_ext autoreload\n",
    "%autoreload 2"
   ]
  },
  {
   "cell_type": "code",
   "execution_count": 47,
   "metadata": {},
   "outputs": [],
   "source": [
    "import pandas as pd\n",
    "pd.options.display.max_columns = None # See all columns\n",
    "import warnings\n",
    "warnings.filterwarnings('ignore')\n",
    "from fantasy_football import Fantasy\n",
    "\n",
    "# Import fantasy class which will be used for building datasets\n",
    "football = Fantasy()"
   ]
  },
  {
   "attachments": {},
   "cell_type": "markdown",
   "metadata": {},
   "source": [
    "##### Let's add in strength of schedule for each player"
   ]
  },
  {
   "cell_type": "code",
   "execution_count": 55,
   "metadata": {},
   "outputs": [
    {
     "data": {
      "text/html": [
       "<div>\n",
       "<style scoped>\n",
       "    .dataframe tbody tr th:only-of-type {\n",
       "        vertical-align: middle;\n",
       "    }\n",
       "\n",
       "    .dataframe tbody tr th {\n",
       "        vertical-align: top;\n",
       "    }\n",
       "\n",
       "    .dataframe thead th {\n",
       "        text-align: right;\n",
       "    }\n",
       "</style>\n",
       "<table border=\"1\" class=\"dataframe\">\n",
       "  <thead>\n",
       "    <tr style=\"text-align: right;\">\n",
       "      <th></th>\n",
       "      <th>Tm</th>\n",
       "      <th>Pos</th>\n",
       "      <th>Rank</th>\n",
       "    </tr>\n",
       "  </thead>\n",
       "  <tbody>\n",
       "    <tr>\n",
       "      <th>0</th>\n",
       "      <td>Ari</td>\n",
       "      <td>QB</td>\n",
       "      <td>20</td>\n",
       "    </tr>\n",
       "    <tr>\n",
       "      <th>1</th>\n",
       "      <td>Atl</td>\n",
       "      <td>QB</td>\n",
       "      <td>23</td>\n",
       "    </tr>\n",
       "    <tr>\n",
       "      <th>2</th>\n",
       "      <td>Bal</td>\n",
       "      <td>QB</td>\n",
       "      <td>7</td>\n",
       "    </tr>\n",
       "    <tr>\n",
       "      <th>3</th>\n",
       "      <td>Buf</td>\n",
       "      <td>QB</td>\n",
       "      <td>31</td>\n",
       "    </tr>\n",
       "    <tr>\n",
       "      <th>4</th>\n",
       "      <td>Car</td>\n",
       "      <td>QB</td>\n",
       "      <td>2</td>\n",
       "    </tr>\n",
       "    <tr>\n",
       "      <th>...</th>\n",
       "      <td>...</td>\n",
       "      <td>...</td>\n",
       "      <td>...</td>\n",
       "    </tr>\n",
       "    <tr>\n",
       "      <th>123</th>\n",
       "      <td>Sf</td>\n",
       "      <td>TE</td>\n",
       "      <td>3</td>\n",
       "    </tr>\n",
       "    <tr>\n",
       "      <th>124</th>\n",
       "      <td>Sea</td>\n",
       "      <td>TE</td>\n",
       "      <td>14</td>\n",
       "    </tr>\n",
       "    <tr>\n",
       "      <th>125</th>\n",
       "      <td>Tb</td>\n",
       "      <td>TE</td>\n",
       "      <td>22</td>\n",
       "    </tr>\n",
       "    <tr>\n",
       "      <th>126</th>\n",
       "      <td>Ten</td>\n",
       "      <td>TE</td>\n",
       "      <td>25</td>\n",
       "    </tr>\n",
       "    <tr>\n",
       "      <th>127</th>\n",
       "      <td>Was</td>\n",
       "      <td>TE</td>\n",
       "      <td>9</td>\n",
       "    </tr>\n",
       "  </tbody>\n",
       "</table>\n",
       "<p>128 rows × 3 columns</p>\n",
       "</div>"
      ],
      "text/plain": [
       "      Tm Pos  Rank\n",
       "0    Ari  QB    20\n",
       "1    Atl  QB    23\n",
       "2    Bal  QB     7\n",
       "3    Buf  QB    31\n",
       "4    Car  QB     2\n",
       "..   ...  ..   ...\n",
       "123   Sf  TE     3\n",
       "124  Sea  TE    14\n",
       "125   Tb  TE    22\n",
       "126  Ten  TE    25\n",
       "127  Was  TE     9\n",
       "\n",
       "[128 rows x 3 columns]"
      ]
     },
     "execution_count": 55,
     "metadata": {},
     "output_type": "execute_result"
    }
   ],
   "source": [
    "strength = pd.read_csv(\"strength2020.csv\", header=0)\n",
    "\n",
    "# Invert matrix for merging purposes\n",
    "inverted_strength = pd.melt(strength, id_vars=['Team'], value_vars=['QB', 'RB', 'WR', 'TE'], var_name='Pos', value_name='Rank')\n",
    "\n",
    "# Make sure the Team columns are the same for merging\n",
    "inverted_strength = inverted_strength.rename(columns={'Team': 'Tm'})\n",
    "\n",
    "# Lets capitalize each first letter of team\n",
    "inverted_strength['Tm'] = inverted_strength['Tm'].str.capitalize()\n",
    "\n",
    "inverted_strength"
   ]
  },
  {
   "attachments": {},
   "cell_type": "markdown",
   "metadata": {},
   "source": [
    "##### Now, let's update our dataset to include these ranks  \n",
    "\n",
    "To perform this merge, we will need to make our original dataset team values all uppercase"
   ]
  },
  {
   "cell_type": "code",
   "execution_count": 56,
   "metadata": {},
   "outputs": [],
   "source": [
    "merged['Tm'] = merged['Tm'].str.capitalize()\n",
    "\n",
    "# Lets perform the merge, fill FA as average strength\n",
    "updated_df = pd.merge(merged, inverted_strength, on=['Tm', 'Pos'], how='left').fillna(16)"
   ]
  },
  {
   "attachments": {},
   "cell_type": "markdown",
   "metadata": {},
   "source": [
    "##### We now have our strength of schedule included in our dataset:"
   ]
  },
  {
   "attachments": {},
   "cell_type": "markdown",
   "metadata": {},
   "source": [
    "##### Now, lets divide all game-statistics columns by total games played so we receive the per-game stats. This will help factor out injuries and instead focus on production."
   ]
  },
  {
   "cell_type": "code",
   "execution_count": 57,
   "metadata": {},
   "outputs": [],
   "source": [
    "updated_df.iloc[:, 4:-2] = updated_df.iloc[:, 4:-2].div(updated_df['GP'], axis=0)"
   ]
  }
 ],
 "metadata": {
  "kernelspec": {
   "display_name": "ml-0451",
   "language": "python",
   "name": "python3"
  },
  "language_info": {
   "codemirror_mode": {
    "name": "ipython",
    "version": 3
   },
   "file_extension": ".py",
   "mimetype": "text/x-python",
   "name": "python",
   "nbconvert_exporter": "python",
   "pygments_lexer": "ipython3",
   "version": "3.9.16"
  },
  "orig_nbformat": 4
 },
 "nbformat": 4,
 "nbformat_minor": 2
}
