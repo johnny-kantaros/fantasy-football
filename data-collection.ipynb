{
 "cells": [
  {
   "attachments": {},
   "cell_type": "markdown",
   "metadata": {},
   "source": [
    "## Data collection and imputation"
   ]
  },
  {
   "cell_type": "code",
   "execution_count": 153,
   "metadata": {},
   "outputs": [
    {
     "name": "stdout",
     "output_type": "stream",
     "text": [
      "The autoreload extension is already loaded. To reload it, use:\n",
      "  %reload_ext autoreload\n"
     ]
    }
   ],
   "source": [
    "%load_ext autoreload\n",
    "%autoreload 2"
   ]
  },
  {
   "cell_type": "code",
   "execution_count": 154,
   "metadata": {},
   "outputs": [],
   "source": [
    "import pandas as pd\n",
    "import warnings\n",
    "warnings.filterwarnings('ignore')\n",
    "from fantasy_football import Fantasy\n",
    "\n",
    "football = Fantasy()"
   ]
  },
  {
   "attachments": {},
   "cell_type": "markdown",
   "metadata": {},
   "source": [
    "This is all cleaning the data"
   ]
  },
  {
   "cell_type": "code",
   "execution_count": 155,
   "metadata": {},
   "outputs": [
    {
     "name": "stdout",
     "output_type": "stream",
     "text": [
      "Offense_Prior_Actuals\n",
      "Offense_Proj\n"
     ]
    }
   ],
   "source": [
    "df = pd.read_excel('2022-offense.xlsx', sheet_name='Offense_Prior_Actuals', header=3)\n",
    "\n",
    "# Drop columns that we don't need\n",
    "drop_columns = ['GS', 'Bye', 'Notes', 'Rank', 'Y! Roto', 'Δ', 'Y! Old', 'Std', 'Δ.1', 'Std Old', 'PPR', 'Δ.2', 'PPR Old', '% Own', 'Fan Pts', 'PPG']\n",
    "df = df.drop(drop_columns, axis=1)\n",
    "\n",
    "# Change names of duplicate columns\n",
    "updated_columns = {'Yds': 'Passing_Yds', 'Yds.1': 'Rushing_Yds', 'Yds.2': 'Receiving_Yds', 'Yds.3': 'Return_Yds', \n",
    "                   'TD': 'Passing_Td', 'TD.1': 'Rushing_Td', 'TD.2': 'Receiving_Td', 'TD.3': 'Return_Td', \n",
    "                   '1st': 'Passing_1st', '1st.1': 'Rushing_1st', '1st.2': 'Receiving_1st'}\n",
    "df = df.rename(columns=updated_columns)\n"
   ]
  },
  {
   "cell_type": "code",
   "execution_count": 156,
   "metadata": {},
   "outputs": [],
   "source": [
    "import pandas as pd\n",
    "import numpy as np\n",
    "import matplotlib.pyplot as plt\n",
    "from unicodedata import normalize\n",
    "\n",
    "table_contracts = pd.read_html('https://www.spotrac.com/nfl/contracts/sort-value/offense/all-time/free-agent-2021/limit-100/')\n",
    "\n",
    "url_pro_football_reference = 'https://www.pro-football-reference.com/years/2022/passing_advanced.htm'\n",
    "table_advanced = pd.read_html(url_pro_football_reference, header=1)[0]"
   ]
  },
  {
   "attachments": {},
   "cell_type": "markdown",
   "metadata": {},
   "source": [
    "We are not using the player contracts yet but here is where we scrape that data"
   ]
  },
  {
   "cell_type": "code",
   "execution_count": 157,
   "metadata": {},
   "outputs": [],
   "source": [
    "player_contracts = table_contracts[0]\n",
    "# player_contracts"
   ]
  },
  {
   "attachments": {},
   "cell_type": "markdown",
   "metadata": {},
   "source": [
    "We had to remove some characters that were throwing off our ability to merge the data"
   ]
  },
  {
   "cell_type": "code",
   "execution_count": 158,
   "metadata": {},
   "outputs": [],
   "source": [
    "passing_advanced = table_advanced\n",
    "passing_advanced = passing_advanced.head(40)\n",
    "passing_advanced['Player'] = passing_advanced['Player'].str.replace('*', '')\n",
    "passing_advanced['Player'] = passing_advanced['Player'].str.replace('+', '')\n",
    "# passing_advanced"
   ]
  },
  {
   "attachments": {},
   "cell_type": "markdown",
   "metadata": {},
   "source": [
    "Here is where we collect isolate the data for quarterbacks and merge the basic dataframe with one of the advanced statistics ones."
   ]
  },
  {
   "cell_type": "code",
   "execution_count": 159,
   "metadata": {},
   "outputs": [],
   "source": [
    "# Get y - actual values from the next year (we do not have 2023 but could get them) - we will eventually need them?\n",
    "QB_data = df[df[\"Pos\"] == \"QB\"]\n",
    "\n",
    "# Get the list of all column names from headers\n",
    "qb_column_headers = list(QB_data.columns.values)\n",
    "# print(\"The Column Header :\", qb_column_headers)\n",
    "\n",
    "qb_drop_columns = ['Tgt', 'Rec', 'Receiving_Yds', 'Receiving_Td', 'Receiving_1st', 'Return_Yds', 'Return_Td', '2PT',]\n",
    "QB_data = QB_data.drop(qb_drop_columns, axis=1)\n",
    "# QB_data\n"
   ]
  },
  {
   "cell_type": "code",
   "execution_count": 160,
   "metadata": {},
   "outputs": [],
   "source": [
    "qb_merged = football.addAdvanced(QB_data, passing_advanced)"
   ]
  },
  {
   "attachments": {},
   "cell_type": "markdown",
   "metadata": {},
   "source": [
    "This is isolating data for running backs, wide receivers, and tight ends."
   ]
  },
  {
   "cell_type": "code",
   "execution_count": 161,
   "metadata": {},
   "outputs": [],
   "source": [
    "RB_data = df[df[\"Pos\"] == \"RB\"]\n",
    "\n",
    "rb_drop_columns = [ 'Comp', 'Inc', 'Passing_Yds', 'Passing_Td', 'Int', 'Pic6', 'Sks', 'Passing_1st']\n",
    "RB_data = RB_data.drop(rb_drop_columns, axis=1)\n",
    "# RB_data"
   ]
  },
  {
   "cell_type": "code",
   "execution_count": 162,
   "metadata": {},
   "outputs": [],
   "source": [
    "WR_data = df[df[\"Pos\"] == \"WR\"]\n",
    "\n",
    "wr_drop_columns = ['Comp', 'Inc', 'Passing_Yds', 'Passing_Td', 'Int', 'Pic6', 'Sks', 'Passing_1st']\n",
    "WR_data = WR_data.drop(rb_drop_columns, axis=1)\n",
    "# WR_data"
   ]
  },
  {
   "cell_type": "code",
   "execution_count": 163,
   "metadata": {},
   "outputs": [],
   "source": [
    "TE_data = df[df[\"Pos\"] == \"TE\"]\n",
    "\n",
    "te_drop_columns = ['Comp', 'Inc', 'Passing_Yds', 'Passing_Td', 'Int', 'Pic6', 'Sks', 'Passing_1st', 'Return_Yds', 'Return_Td']\n",
    "TE_data = TE_data.drop(te_drop_columns, axis=1)\n",
    "# TE_data"
   ]
  }
 ],
 "metadata": {
  "kernelspec": {
   "display_name": "ml-0451",
   "language": "python",
   "name": "python3"
  },
  "language_info": {
   "codemirror_mode": {
    "name": "ipython",
    "version": 3
   },
   "file_extension": ".py",
   "mimetype": "text/x-python",
   "name": "python",
   "nbconvert_exporter": "python",
   "pygments_lexer": "ipython3",
   "version": "3.9.16"
  },
  "orig_nbformat": 4
 },
 "nbformat": 4,
 "nbformat_minor": 2
}
