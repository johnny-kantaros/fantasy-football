{
 "cells": [
  {
   "attachments": {},
   "cell_type": "markdown",
   "metadata": {},
   "source": [
    "# Rookie Data"
   ]
  },
  {
   "cell_type": "code",
   "execution_count": 106,
   "metadata": {},
   "outputs": [
    {
     "name": "stdout",
     "output_type": "stream",
     "text": [
      "The autoreload extension is already loaded. To reload it, use:\n",
      "  %reload_ext autoreload\n"
     ]
    }
   ],
   "source": [
    "%load_ext autoreload\n",
    "%autoreload 2"
   ]
  },
  {
   "cell_type": "code",
   "execution_count": 110,
   "metadata": {},
   "outputs": [],
   "source": [
    "import pandas as pd\n",
    "import warnings\n",
    "warnings.filterwarnings('ignore')\n",
    "from fantasy_football import Fantasy\n",
    "\n",
    "# Import fantasy class which will be used for building datasets\n",
    "football = Fantasy()"
   ]
  },
  {
   "cell_type": "code",
   "execution_count": 77,
   "metadata": {},
   "outputs": [],
   "source": [
    "rookie = football.getYearlyRookieData(2020)"
   ]
  },
  {
   "cell_type": "code",
   "execution_count": 111,
   "metadata": {},
   "outputs": [
    {
     "data": {
      "text/html": [
       "<div>\n",
       "<style scoped>\n",
       "    .dataframe tbody tr th:only-of-type {\n",
       "        vertical-align: middle;\n",
       "    }\n",
       "\n",
       "    .dataframe tbody tr th {\n",
       "        vertical-align: top;\n",
       "    }\n",
       "\n",
       "    .dataframe thead th {\n",
       "        text-align: right;\n",
       "    }\n",
       "</style>\n",
       "<table border=\"1\" class=\"dataframe\">\n",
       "  <thead>\n",
       "    <tr style=\"text-align: right;\">\n",
       "      <th></th>\n",
       "      <th>Pick</th>\n",
       "      <th>Team</th>\n",
       "      <th>Player</th>\n",
       "      <th>Pos</th>\n",
       "      <th>passing_Att</th>\n",
       "      <th>passing_Cmp</th>\n",
       "      <th>passing_Cmp %</th>\n",
       "      <th>passing_Yds/Att</th>\n",
       "      <th>passing_Pass Yds</th>\n",
       "      <th>passing_TD</th>\n",
       "      <th>...</th>\n",
       "      <th>downs_3rd Att</th>\n",
       "      <th>downs_3rd Md</th>\n",
       "      <th>downs_4th Att</th>\n",
       "      <th>downs_4th Md</th>\n",
       "      <th>downs_Rec 1st</th>\n",
       "      <th>downs_Rec 1st%</th>\n",
       "      <th>downs_Rush 1st</th>\n",
       "      <th>downs_Rush 1st%</th>\n",
       "      <th>downs_Scrm Plys</th>\n",
       "      <th>AVG</th>\n",
       "    </tr>\n",
       "  </thead>\n",
       "  <tbody>\n",
       "    <tr>\n",
       "      <th>0</th>\n",
       "      <td>1</td>\n",
       "      <td>49ers</td>\n",
       "      <td>Alex Smith</td>\n",
       "      <td>QB</td>\n",
       "      <td>561</td>\n",
       "      <td>325</td>\n",
       "      <td>57.9</td>\n",
       "      <td>6.2</td>\n",
       "      <td>3455</td>\n",
       "      <td>16</td>\n",
       "      <td>...</td>\n",
       "      <td>219</td>\n",
       "      <td>88</td>\n",
       "      <td>12</td>\n",
       "      <td>6</td>\n",
       "      <td>172</td>\n",
       "      <td>53.1</td>\n",
       "      <td>93</td>\n",
       "      <td>21.3</td>\n",
       "      <td>1004</td>\n",
       "      <td>3.0</td>\n",
       "    </tr>\n",
       "    <tr>\n",
       "      <th>1</th>\n",
       "      <td>24</td>\n",
       "      <td>Packers</td>\n",
       "      <td>Aaron Rodgers</td>\n",
       "      <td>QB</td>\n",
       "      <td>598</td>\n",
       "      <td>382</td>\n",
       "      <td>63.9</td>\n",
       "      <td>7.6</td>\n",
       "      <td>4550</td>\n",
       "      <td>36</td>\n",
       "      <td>...</td>\n",
       "      <td>241</td>\n",
       "      <td>84</td>\n",
       "      <td>12</td>\n",
       "      <td>5</td>\n",
       "      <td>152</td>\n",
       "      <td>50.8</td>\n",
       "      <td>86</td>\n",
       "      <td>18.1</td>\n",
       "      <td>1047</td>\n",
       "      <td>0.4</td>\n",
       "    </tr>\n",
       "    <tr>\n",
       "      <th>2</th>\n",
       "      <td>148</td>\n",
       "      <td>Packers</td>\n",
       "      <td>Ingle Martin</td>\n",
       "      <td>QB</td>\n",
       "      <td>626</td>\n",
       "      <td>383</td>\n",
       "      <td>61.2</td>\n",
       "      <td>6.3</td>\n",
       "      <td>3964</td>\n",
       "      <td>20</td>\n",
       "      <td>...</td>\n",
       "      <td>239</td>\n",
       "      <td>91</td>\n",
       "      <td>16</td>\n",
       "      <td>5</td>\n",
       "      <td>224</td>\n",
       "      <td>53.5</td>\n",
       "      <td>58</td>\n",
       "      <td>16.1</td>\n",
       "      <td>1075</td>\n",
       "      <td>-0.5</td>\n",
       "    </tr>\n",
       "    <tr>\n",
       "      <th>3</th>\n",
       "      <td>193</td>\n",
       "      <td>Bengals</td>\n",
       "      <td>Reggie McNeal</td>\n",
       "      <td>QB</td>\n",
       "      <td>538</td>\n",
       "      <td>362</td>\n",
       "      <td>67.3</td>\n",
       "      <td>7.3</td>\n",
       "      <td>3935</td>\n",
       "      <td>32</td>\n",
       "      <td>...</td>\n",
       "      <td>220</td>\n",
       "      <td>72</td>\n",
       "      <td>12</td>\n",
       "      <td>3</td>\n",
       "      <td>182</td>\n",
       "      <td>54.0</td>\n",
       "      <td>73</td>\n",
       "      <td>20.0</td>\n",
       "      <td>1027</td>\n",
       "      <td>0.4</td>\n",
       "    </tr>\n",
       "    <tr>\n",
       "      <th>4</th>\n",
       "      <td>3</td>\n",
       "      <td>Falcons</td>\n",
       "      <td>Matt Ryan</td>\n",
       "      <td>QB</td>\n",
       "      <td>555</td>\n",
       "      <td>336</td>\n",
       "      <td>60.5</td>\n",
       "      <td>6.4</td>\n",
       "      <td>3573</td>\n",
       "      <td>18</td>\n",
       "      <td>...</td>\n",
       "      <td>219</td>\n",
       "      <td>91</td>\n",
       "      <td>17</td>\n",
       "      <td>6</td>\n",
       "      <td>167</td>\n",
       "      <td>55.3</td>\n",
       "      <td>119</td>\n",
       "      <td>25.4</td>\n",
       "      <td>1041</td>\n",
       "      <td>12.4</td>\n",
       "    </tr>\n",
       "  </tbody>\n",
       "</table>\n",
       "<p>5 rows × 53 columns</p>\n",
       "</div>"
      ],
      "text/plain": [
       "  Pick     Team         Player Pos  passing_Att  passing_Cmp  passing_Cmp %  \\\n",
       "0    1    49ers     Alex Smith  QB          561          325           57.9   \n",
       "1   24  Packers  Aaron Rodgers  QB          598          382           63.9   \n",
       "2  148  Packers   Ingle Martin  QB          626          383           61.2   \n",
       "3  193  Bengals  Reggie McNeal  QB          538          362           67.3   \n",
       "4    3  Falcons      Matt Ryan  QB          555          336           60.5   \n",
       "\n",
       "   passing_Yds/Att  passing_Pass Yds  passing_TD  ...  downs_3rd Att  \\\n",
       "0              6.2              3455          16  ...            219   \n",
       "1              7.6              4550          36  ...            241   \n",
       "2              6.3              3964          20  ...            239   \n",
       "3              7.3              3935          32  ...            220   \n",
       "4              6.4              3573          18  ...            219   \n",
       "\n",
       "   downs_3rd Md  downs_4th Att  downs_4th Md  downs_Rec 1st  downs_Rec 1st%  \\\n",
       "0            88             12             6            172            53.1   \n",
       "1            84             12             5            152            50.8   \n",
       "2            91             16             5            224            53.5   \n",
       "3            72             12             3            182            54.0   \n",
       "4            91             17             6            167            55.3   \n",
       "\n",
       "  downs_Rush 1st  downs_Rush 1st%  downs_Scrm Plys   AVG  \n",
       "0             93             21.3             1004   3.0  \n",
       "1             86             18.1             1047   0.4  \n",
       "2             58             16.1             1075  -0.5  \n",
       "3             73             20.0             1027   0.4  \n",
       "4            119             25.4             1041  12.4  \n",
       "\n",
       "[5 rows x 53 columns]"
      ]
     },
     "execution_count": 111,
     "metadata": {},
     "output_type": "execute_result"
    }
   ],
   "source": [
    "# Get points per game for labels\n",
    "\n",
    "\n",
    "QB_rookie_data = rookie[rookie[\"Pos\"] == \"QB\"].reset_index(drop=True)\n",
    "RB_rookie_data = rookie[rookie[\"Pos\"] == \"RB\"].reset_index(drop=True)\n",
    "WR_rookie_data = rookie[rookie[\"Pos\"] == \"WR\"].reset_index(drop=True)\n",
    "TE_rookie_data = rookie[rookie[\"Pos\"] == \"TE\"].reset_index(drop=True)\n",
    "\n",
    "# Not sure if we should include this since\n",
    "# kickers aren't valuble and rarely any get\n",
    "# drafted\n",
    "#K_rookie_data = rookie[rookie[\"Pos\"] == \"K\"]\n",
    "\n",
    "QB_rookie_data.head()"
   ]
  },
  {
   "cell_type": "code",
   "execution_count": 112,
   "metadata": {},
   "outputs": [
    {
     "name": "stdout",
     "output_type": "stream",
     "text": [
      "147\n",
      "Index(['Pick', 'passing_20+', 'rushing_20+', 'receiving_Rec FUM',\n",
      "       'downs_Scrm Plys'],\n",
      "      dtype='object')\n"
     ]
    },
    {
     "data": {
      "text/plain": [
       "7.874816881021796"
      ]
     },
     "execution_count": 112,
     "metadata": {},
     "output_type": "execute_result"
    }
   ],
   "source": [
    "features, labels = football.prepRookieData(WR_rookie_data, standardize= True)\n",
    "\n",
    "print(len(features))\n",
    "\n",
    "football.getBestFeatures(features, labels, numFeatures=5, numFolds=3)"
   ]
  },
  {
   "cell_type": "code",
   "execution_count": 113,
   "metadata": {},
   "outputs": [
    {
     "name": "stdout",
     "output_type": "stream",
     "text": [
      "81\n",
      "Index(['Pick', 'passing_INT', 'rushing_YPC', 'downs_4th Md', 'downs_Rec 1st%'], dtype='object')\n"
     ]
    },
    {
     "data": {
      "text/plain": [
       "3.655494509620825"
      ]
     },
     "execution_count": 113,
     "metadata": {},
     "output_type": "execute_result"
    }
   ],
   "source": [
    "features, labels = football.prepRookieData(TE_rookie_data, standardize= True)\n",
    "\n",
    "print(len(features))\n",
    "\n",
    "football.getBestFeatures(features, labels, numFeatures=5, numFolds=3)"
   ]
  },
  {
   "cell_type": "code",
   "execution_count": 114,
   "metadata": {},
   "outputs": [
    {
     "name": "stdout",
     "output_type": "stream",
     "text": [
      "56\n",
      "Index(['Pick', 'passing_TD', 'passing_Rate', 'passing_Sck', 'passing_SckY'], dtype='object')\n"
     ]
    },
    {
     "data": {
      "text/plain": [
       "34.581901962370544"
      ]
     },
     "execution_count": 114,
     "metadata": {},
     "output_type": "execute_result"
    }
   ],
   "source": [
    "features, labels = football.prepRookieData(QB_rookie_data, standardize= True)\n",
    "\n",
    "print(len(features))\n",
    "\n",
    "football.getBestFeatures(features, labels, numFeatures=5, numFolds=3)"
   ]
  },
  {
   "cell_type": "code",
   "execution_count": 115,
   "metadata": {},
   "outputs": [
    {
     "name": "stdout",
     "output_type": "stream",
     "text": [
      "108\n",
      "Index(['Pick', 'passing_Yds/Att', 'passing_SckY', 'receiving_TD',\n",
      "       'receiving_Rec FUM'],\n",
      "      dtype='object')\n"
     ]
    },
    {
     "data": {
      "text/plain": [
       "12.80884912624546"
      ]
     },
     "execution_count": 115,
     "metadata": {},
     "output_type": "execute_result"
    }
   ],
   "source": [
    "features, labels = football.prepRookieData(RB_rookie_data, standardize= True)\n",
    "\n",
    "print(len(features))\n",
    "\n",
    "football.getBestFeatures(features, labels, numFeatures=5, numFolds=3)"
   ]
  }
 ],
 "metadata": {
  "kernelspec": {
   "display_name": "Python 3",
   "language": "python",
   "name": "python3"
  },
  "language_info": {
   "codemirror_mode": {
    "name": "ipython",
    "version": 3
   },
   "file_extension": ".py",
   "mimetype": "text/x-python",
   "name": "python",
   "nbconvert_exporter": "python",
   "pygments_lexer": "ipython3",
   "version": "3.8.0"
  },
  "orig_nbformat": 4
 },
 "nbformat": 4,
 "nbformat_minor": 2
}
