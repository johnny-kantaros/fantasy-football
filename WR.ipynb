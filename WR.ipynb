{
 "cells": [
  {
   "attachments": {},
   "cell_type": "markdown",
   "metadata": {},
   "source": [
    "## Running Backs"
   ]
  },
  {
   "cell_type": "code",
   "execution_count": 1,
   "metadata": {},
   "outputs": [],
   "source": [
    "%load_ext autoreload\n",
    "%autoreload 2"
   ]
  },
  {
   "cell_type": "code",
   "execution_count": 2,
   "metadata": {},
   "outputs": [],
   "source": [
    "import pandas as pd\n",
    "import warnings\n",
    "warnings.filterwarnings('ignore')\n",
    "from fantasy_football import Fantasy\n",
    "\n",
    "# Import fantasy class which will be used for building datasets\n",
    "football = Fantasy()"
   ]
  },
  {
   "attachments": {},
   "cell_type": "markdown",
   "metadata": {},
   "source": [
    "First, we pull 2022 offense data and clean it"
   ]
  },
  {
   "cell_type": "code",
   "execution_count": 3,
   "metadata": {},
   "outputs": [
    {
     "name": "stdout",
     "output_type": "stream",
     "text": [
      "Offense_2020\n",
      "Offense_Proj\n",
      "Offense_Prior_Actuals\n",
      "Offense_Proj\n"
     ]
    }
   ],
   "source": [
    "df, y = Fantasy.read_data('2021')"
   ]
  },
  {
   "attachments": {},
   "cell_type": "markdown",
   "metadata": {},
   "source": [
    "Split data by positional group"
   ]
  },
  {
   "cell_type": "code",
   "execution_count": 4,
   "metadata": {},
   "outputs": [],
   "source": [
    "WR_data = football.makeRegularData(df, \"WR\")\n"
   ]
  },
  {
   "attachments": {},
   "cell_type": "markdown",
   "metadata": {},
   "source": [
    "Next, we pull more advanced data for rushing and passing"
   ]
  },
  {
   "cell_type": "code",
   "execution_count": 8,
   "metadata": {},
   "outputs": [],
   "source": [
    "# Advanced\n",
    "rushing_advanced = football.getAdvancedStats(\"rushing\", \"2021\")\n",
    "# receiving_advanced = football.getAdvancedStats(\"receiving\", \"2021\") "
   ]
  },
  {
   "cell_type": "code",
   "execution_count": 9,
   "metadata": {},
   "outputs": [],
   "source": [
    "receiving_advanced = football.getAdvancedStats(\"receiving\", \"2021\") "
   ]
  },
  {
   "attachments": {},
   "cell_type": "markdown",
   "metadata": {},
   "source": [
    "Now we are ready to merge the datasets to incorporate the more advance statistics"
   ]
  },
  {
   "cell_type": "code",
   "execution_count": 11,
   "metadata": {},
   "outputs": [],
   "source": [
    "WR_rushing = football.addAdvanced(WR_data, rushing_advanced)\n"
   ]
  },
  {
   "cell_type": "code",
   "execution_count": 14,
   "metadata": {},
   "outputs": [
    {
     "name": "stdout",
     "output_type": "stream",
     "text": [
      "Index(['Player', 'Pos', 'Tm', 'GP', 'Att', 'Rushing_Yds', 'Rushing_Td',\n",
      "       'Rushing_1st', 'Tgt', 'Rec', 'Receiving_Yds', 'Receiving_Td',\n",
      "       'Receiving_1st', 'Return_Yds', 'Return_Td', '2PT', 'Total', 'Lost',\n",
      "       'Name'],\n",
      "      dtype='object')\n"
     ]
    }
   ],
   "source": [
    "print(WR_data.columns)"
   ]
  },
  {
   "cell_type": "code",
   "execution_count": 17,
   "metadata": {},
   "outputs": [
    {
     "name": "stdout",
     "output_type": "stream",
     "text": [
      "               Player   Tm Age Pos   G  GS  Tgt  Rec   Yds  TD  ... YBC/R  \\\n",
      "0         Cooper Kupp  LAR  28  WR  17  17  191  145  1947  16  ...   7.6   \n",
      "1       Davante Adams  GNB  29  WR  16  16  169  123  1553  11  ...   7.8   \n",
      "2         Tyreek Hill  KAN  27  WR  17  16  159  111  1239   9  ...   7.2   \n",
      "3    Justin Jefferson  MIN  22  WR  17  17  167  108  1616  10  ...  10.5   \n",
      "4        Mark Andrews  BAL  26  TE  17   9  153  107  1361   9  ...   8.4   \n",
      "..                ...  ...  ..  ..  ..  ..  ...  ...   ...  ..  ...   ...   \n",
      "530     Vyncint Smith  NYJ  25  WR   2   0    1    0     0   0  ...         \n",
      "531  Stephen Sullivan  CAR  25  TE   3   0    1    0     0   0  ...         \n",
      "532    Colin Thompson  CAR  28  TE  11   2    1    0     0   0  ...         \n",
      "533    Trent Williams  SFO  33  LT  15  15    1    0     0   0  ...         \n",
      "534       Zach Wilson  NYJ  22  QB  13  13    1    0     0   0  ...         \n",
      "\n",
      "     YAC YAC/R  ADOT BrkTkl Rec/Br Drop  Drop% Int    Rat  \n",
      "0    846   5.8   8.6     10   14.5    8    4.2   5  124.8  \n",
      "1    592   4.8   9.6      5   24.6    3    1.8   3  115.3  \n",
      "2    444   4.0  10.4     10   11.1    7    4.4   3  103.7  \n",
      "3    482   4.5  12.4      5   21.6    7    4.2   2  111.3  \n",
      "4    458   4.3  10.3      4   26.8    3    2.0   9   92.5  \n",
      "..   ...   ...   ...    ...    ...  ...    ...  ..    ...  \n",
      "530    0        18.0      0           0    0.0   0   39.6  \n",
      "531    0        -2.0      0           1  100.0   0   39.6  \n",
      "532    0         5.0      0           0    0.0   0   39.6  \n",
      "533    0         1.0      0           0    0.0   0   39.6  \n",
      "534    0         8.0      0           0    0.0   0   39.6  \n",
      "\n",
      "[535 rows x 22 columns]\n"
     ]
    }
   ],
   "source": [
    "print(receiving_advanced.columns)"
   ]
  },
  {
   "cell_type": "code",
   "execution_count": 12,
   "metadata": {},
   "outputs": [
    {
     "ename": "KeyError",
     "evalue": "'Name'",
     "output_type": "error",
     "traceback": [
      "\u001b[0;31m---------------------------------------------------------------------------\u001b[0m",
      "\u001b[0;31mKeyError\u001b[0m                                  Traceback (most recent call last)",
      "Cell \u001b[0;32mIn[12], line 1\u001b[0m\n\u001b[0;32m----> 1\u001b[0m WR \u001b[39m=\u001b[39m football\u001b[39m.\u001b[39;49msecondMerge(WR_rushing, receiving_advanced)\n\u001b[1;32m      2\u001b[0m WR\n",
      "File \u001b[0;32m~/Desktop/0451/fantasy-football/fantasy_football.py:68\u001b[0m, in \u001b[0;36mFantasy.secondMerge\u001b[0;34m(self, df_1, df_2)\u001b[0m\n\u001b[1;32m     66\u001b[0m \u001b[39mdef\u001b[39;00m \u001b[39msecondMerge\u001b[39m(\u001b[39mself\u001b[39m, df_1, df_2):\n\u001b[1;32m     67\u001b[0m     \u001b[39m# new data frame with split value columns\u001b[39;00m\n\u001b[0;32m---> 68\u001b[0m     merged_df \u001b[39m=\u001b[39m df_1\u001b[39m.\u001b[39;49mmerge(df_2, on\u001b[39m=\u001b[39;49m[\u001b[39m'\u001b[39;49m\u001b[39mName\u001b[39;49m\u001b[39m'\u001b[39;49m], how\u001b[39m=\u001b[39;49m\u001b[39m'\u001b[39;49m\u001b[39mleft\u001b[39;49m\u001b[39m'\u001b[39;49m)\u001b[39m.\u001b[39mfillna(\u001b[39m0\u001b[39m)\n\u001b[1;32m     69\u001b[0m     \u001b[39mreturn\u001b[39;00m merged_df\n",
      "File \u001b[0;32m~/opt/anaconda3/envs/ml-0451/lib/python3.9/site-packages/pandas/core/frame.py:10093\u001b[0m, in \u001b[0;36mDataFrame.merge\u001b[0;34m(self, right, how, on, left_on, right_on, left_index, right_index, sort, suffixes, copy, indicator, validate)\u001b[0m\n\u001b[1;32m  10074\u001b[0m \u001b[39m@Substitution\u001b[39m(\u001b[39m\"\u001b[39m\u001b[39m\"\u001b[39m)\n\u001b[1;32m  10075\u001b[0m \u001b[39m@Appender\u001b[39m(_merge_doc, indents\u001b[39m=\u001b[39m\u001b[39m2\u001b[39m)\n\u001b[1;32m  10076\u001b[0m \u001b[39mdef\u001b[39;00m \u001b[39mmerge\u001b[39m(\n\u001b[0;32m   (...)\u001b[0m\n\u001b[1;32m  10089\u001b[0m     validate: \u001b[39mstr\u001b[39m \u001b[39m|\u001b[39m \u001b[39mNone\u001b[39;00m \u001b[39m=\u001b[39m \u001b[39mNone\u001b[39;00m,\n\u001b[1;32m  10090\u001b[0m ) \u001b[39m-\u001b[39m\u001b[39m>\u001b[39m DataFrame:\n\u001b[1;32m  10091\u001b[0m     \u001b[39mfrom\u001b[39;00m \u001b[39mpandas\u001b[39;00m\u001b[39m.\u001b[39;00m\u001b[39mcore\u001b[39;00m\u001b[39m.\u001b[39;00m\u001b[39mreshape\u001b[39;00m\u001b[39m.\u001b[39;00m\u001b[39mmerge\u001b[39;00m \u001b[39mimport\u001b[39;00m merge\n\u001b[0;32m> 10093\u001b[0m     \u001b[39mreturn\u001b[39;00m merge(\n\u001b[1;32m  10094\u001b[0m         \u001b[39mself\u001b[39;49m,\n\u001b[1;32m  10095\u001b[0m         right,\n\u001b[1;32m  10096\u001b[0m         how\u001b[39m=\u001b[39;49mhow,\n\u001b[1;32m  10097\u001b[0m         on\u001b[39m=\u001b[39;49mon,\n\u001b[1;32m  10098\u001b[0m         left_on\u001b[39m=\u001b[39;49mleft_on,\n\u001b[1;32m  10099\u001b[0m         right_on\u001b[39m=\u001b[39;49mright_on,\n\u001b[1;32m  10100\u001b[0m         left_index\u001b[39m=\u001b[39;49mleft_index,\n\u001b[1;32m  10101\u001b[0m         right_index\u001b[39m=\u001b[39;49mright_index,\n\u001b[1;32m  10102\u001b[0m         sort\u001b[39m=\u001b[39;49msort,\n\u001b[1;32m  10103\u001b[0m         suffixes\u001b[39m=\u001b[39;49msuffixes,\n\u001b[1;32m  10104\u001b[0m         copy\u001b[39m=\u001b[39;49mcopy,\n\u001b[1;32m  10105\u001b[0m         indicator\u001b[39m=\u001b[39;49mindicator,\n\u001b[1;32m  10106\u001b[0m         validate\u001b[39m=\u001b[39;49mvalidate,\n\u001b[1;32m  10107\u001b[0m     )\n",
      "File \u001b[0;32m~/opt/anaconda3/envs/ml-0451/lib/python3.9/site-packages/pandas/core/reshape/merge.py:110\u001b[0m, in \u001b[0;36mmerge\u001b[0;34m(left, right, how, on, left_on, right_on, left_index, right_index, sort, suffixes, copy, indicator, validate)\u001b[0m\n\u001b[1;32m     93\u001b[0m \u001b[39m@Substitution\u001b[39m(\u001b[39m\"\u001b[39m\u001b[39m\\n\u001b[39;00m\u001b[39mleft : DataFrame or named Series\u001b[39m\u001b[39m\"\u001b[39m)\n\u001b[1;32m     94\u001b[0m \u001b[39m@Appender\u001b[39m(_merge_doc, indents\u001b[39m=\u001b[39m\u001b[39m0\u001b[39m)\n\u001b[1;32m     95\u001b[0m \u001b[39mdef\u001b[39;00m \u001b[39mmerge\u001b[39m(\n\u001b[0;32m   (...)\u001b[0m\n\u001b[1;32m    108\u001b[0m     validate: \u001b[39mstr\u001b[39m \u001b[39m|\u001b[39m \u001b[39mNone\u001b[39;00m \u001b[39m=\u001b[39m \u001b[39mNone\u001b[39;00m,\n\u001b[1;32m    109\u001b[0m ) \u001b[39m-\u001b[39m\u001b[39m>\u001b[39m DataFrame:\n\u001b[0;32m--> 110\u001b[0m     op \u001b[39m=\u001b[39m _MergeOperation(\n\u001b[1;32m    111\u001b[0m         left,\n\u001b[1;32m    112\u001b[0m         right,\n\u001b[1;32m    113\u001b[0m         how\u001b[39m=\u001b[39;49mhow,\n\u001b[1;32m    114\u001b[0m         on\u001b[39m=\u001b[39;49mon,\n\u001b[1;32m    115\u001b[0m         left_on\u001b[39m=\u001b[39;49mleft_on,\n\u001b[1;32m    116\u001b[0m         right_on\u001b[39m=\u001b[39;49mright_on,\n\u001b[1;32m    117\u001b[0m         left_index\u001b[39m=\u001b[39;49mleft_index,\n\u001b[1;32m    118\u001b[0m         right_index\u001b[39m=\u001b[39;49mright_index,\n\u001b[1;32m    119\u001b[0m         sort\u001b[39m=\u001b[39;49msort,\n\u001b[1;32m    120\u001b[0m         suffixes\u001b[39m=\u001b[39;49msuffixes,\n\u001b[1;32m    121\u001b[0m         indicator\u001b[39m=\u001b[39;49mindicator,\n\u001b[1;32m    122\u001b[0m         validate\u001b[39m=\u001b[39;49mvalidate,\n\u001b[1;32m    123\u001b[0m     )\n\u001b[1;32m    124\u001b[0m     \u001b[39mreturn\u001b[39;00m op\u001b[39m.\u001b[39mget_result(copy\u001b[39m=\u001b[39mcopy)\n",
      "File \u001b[0;32m~/opt/anaconda3/envs/ml-0451/lib/python3.9/site-packages/pandas/core/reshape/merge.py:703\u001b[0m, in \u001b[0;36m_MergeOperation.__init__\u001b[0;34m(self, left, right, how, on, left_on, right_on, axis, left_index, right_index, sort, suffixes, indicator, validate)\u001b[0m\n\u001b[1;32m    696\u001b[0m \u001b[39mself\u001b[39m\u001b[39m.\u001b[39m_cross \u001b[39m=\u001b[39m cross_col\n\u001b[1;32m    698\u001b[0m \u001b[39m# note this function has side effects\u001b[39;00m\n\u001b[1;32m    699\u001b[0m (\n\u001b[1;32m    700\u001b[0m     \u001b[39mself\u001b[39m\u001b[39m.\u001b[39mleft_join_keys,\n\u001b[1;32m    701\u001b[0m     \u001b[39mself\u001b[39m\u001b[39m.\u001b[39mright_join_keys,\n\u001b[1;32m    702\u001b[0m     \u001b[39mself\u001b[39m\u001b[39m.\u001b[39mjoin_names,\n\u001b[0;32m--> 703\u001b[0m ) \u001b[39m=\u001b[39m \u001b[39mself\u001b[39;49m\u001b[39m.\u001b[39;49m_get_merge_keys()\n\u001b[1;32m    705\u001b[0m \u001b[39m# validate the merge keys dtypes. We may need to coerce\u001b[39;00m\n\u001b[1;32m    706\u001b[0m \u001b[39m# to avoid incompatible dtypes\u001b[39;00m\n\u001b[1;32m    707\u001b[0m \u001b[39mself\u001b[39m\u001b[39m.\u001b[39m_maybe_coerce_merge_keys()\n",
      "File \u001b[0;32m~/opt/anaconda3/envs/ml-0451/lib/python3.9/site-packages/pandas/core/reshape/merge.py:1162\u001b[0m, in \u001b[0;36m_MergeOperation._get_merge_keys\u001b[0;34m(self)\u001b[0m\n\u001b[1;32m   1160\u001b[0m rk \u001b[39m=\u001b[39m cast(Hashable, rk)\n\u001b[1;32m   1161\u001b[0m \u001b[39mif\u001b[39;00m rk \u001b[39mis\u001b[39;00m \u001b[39mnot\u001b[39;00m \u001b[39mNone\u001b[39;00m:\n\u001b[0;32m-> 1162\u001b[0m     right_keys\u001b[39m.\u001b[39mappend(right\u001b[39m.\u001b[39;49m_get_label_or_level_values(rk))\n\u001b[1;32m   1163\u001b[0m \u001b[39melse\u001b[39;00m:\n\u001b[1;32m   1164\u001b[0m     \u001b[39m# work-around for merge_asof(right_index=True)\u001b[39;00m\n\u001b[1;32m   1165\u001b[0m     right_keys\u001b[39m.\u001b[39mappend(right\u001b[39m.\u001b[39mindex)\n",
      "File \u001b[0;32m~/opt/anaconda3/envs/ml-0451/lib/python3.9/site-packages/pandas/core/generic.py:1850\u001b[0m, in \u001b[0;36mNDFrame._get_label_or_level_values\u001b[0;34m(self, key, axis)\u001b[0m\n\u001b[1;32m   1844\u001b[0m     values \u001b[39m=\u001b[39m (\n\u001b[1;32m   1845\u001b[0m         \u001b[39mself\u001b[39m\u001b[39m.\u001b[39maxes[axis]\n\u001b[1;32m   1846\u001b[0m         \u001b[39m.\u001b[39mget_level_values(key)  \u001b[39m# type: ignore[assignment]\u001b[39;00m\n\u001b[1;32m   1847\u001b[0m         \u001b[39m.\u001b[39m_values\n\u001b[1;32m   1848\u001b[0m     )\n\u001b[1;32m   1849\u001b[0m \u001b[39melse\u001b[39;00m:\n\u001b[0;32m-> 1850\u001b[0m     \u001b[39mraise\u001b[39;00m \u001b[39mKeyError\u001b[39;00m(key)\n\u001b[1;32m   1852\u001b[0m \u001b[39m# Check for duplicates\u001b[39;00m\n\u001b[1;32m   1853\u001b[0m \u001b[39mif\u001b[39;00m values\u001b[39m.\u001b[39mndim \u001b[39m>\u001b[39m \u001b[39m1\u001b[39m:\n",
      "\u001b[0;31mKeyError\u001b[0m: 'Name'"
     ]
    }
   ],
   "source": [
    "WR = football.secondMerge(WR_rushing, receiving_advanced)\n",
    "WR"
   ]
  },
  {
   "attachments": {},
   "cell_type": "markdown",
   "metadata": {},
   "source": [
    "### CONTRACTS AND OTHER DATA (not yet completed)"
   ]
  },
  {
   "attachments": {},
   "cell_type": "markdown",
   "metadata": {},
   "source": [
    "We are not using the player contracts yet but here is where we scrape that data"
   ]
  },
  {
   "cell_type": "code",
   "execution_count": null,
   "metadata": {},
   "outputs": [
    {
     "data": {
      "text/html": [
       "<div>\n",
       "<style scoped>\n",
       "    .dataframe tbody tr th:only-of-type {\n",
       "        vertical-align: middle;\n",
       "    }\n",
       "\n",
       "    .dataframe tbody tr th {\n",
       "        vertical-align: top;\n",
       "    }\n",
       "\n",
       "    .dataframe thead th {\n",
       "        text-align: right;\n",
       "    }\n",
       "</style>\n",
       "<table border=\"1\" class=\"dataframe\">\n",
       "  <thead>\n",
       "    <tr style=\"text-align: right;\">\n",
       "      <th></th>\n",
       "      <th>Rank</th>\n",
       "      <th>Player</th>\n",
       "      <th>Signed Age</th>\n",
       "      <th>Yrs</th>\n",
       "      <th>Value</th>\n",
       "      <th>AAV</th>\n",
       "      <th>Sign Bonus</th>\n",
       "      <th>G'teed @ Sign</th>\n",
       "      <th>Practical G'teed</th>\n",
       "    </tr>\n",
       "  </thead>\n",
       "  <tbody>\n",
       "    <tr>\n",
       "      <th>0</th>\n",
       "      <td>1</td>\n",
       "      <td>Jay Cutler  Quarterback | 2014-2020 (FA: 2021)...</td>\n",
       "      <td>30</td>\n",
       "      <td>7</td>\n",
       "      <td>$126,700,000</td>\n",
       "      <td>$18,100,000</td>\n",
       "      <td>NaN</td>\n",
       "      <td>$38,000,000</td>\n",
       "      <td>$54,000,000</td>\n",
       "    </tr>\n",
       "    <tr>\n",
       "      <th>1</th>\n",
       "      <td>2</td>\n",
       "      <td>Cam Newton  Quarterback | 2015-2020 (FA: 2021)</td>\n",
       "      <td>26</td>\n",
       "      <td>5</td>\n",
       "      <td>$103,800,000</td>\n",
       "      <td>$20,760,000</td>\n",
       "      <td>$22,500,000</td>\n",
       "      <td>$41,000,000</td>\n",
       "      <td>$60,000,000</td>\n",
       "    </tr>\n",
       "    <tr>\n",
       "      <th>2</th>\n",
       "      <td>3</td>\n",
       "      <td>Andy Dalton  Quarterback | 2014-2020 (FA: 2021...</td>\n",
       "      <td>26</td>\n",
       "      <td>6</td>\n",
       "      <td>$96,000,000</td>\n",
       "      <td>$16,000,000</td>\n",
       "      <td>$12,000,000</td>\n",
       "      <td>$17,000,000</td>\n",
       "      <td>$17,000,000</td>\n",
       "    </tr>\n",
       "    <tr>\n",
       "      <th>3</th>\n",
       "      <td>4</td>\n",
       "      <td>Kirk Cousins  Quarterback | 2018-2020 (FA: 2021)</td>\n",
       "      <td>29</td>\n",
       "      <td>3</td>\n",
       "      <td>$84,000,000</td>\n",
       "      <td>$28,000,000</td>\n",
       "      <td>$3,000,000</td>\n",
       "      <td>$84,000,000</td>\n",
       "      <td>$84,000,000</td>\n",
       "    </tr>\n",
       "    <tr>\n",
       "      <th>4</th>\n",
       "      <td>5</td>\n",
       "      <td>Ryan Tannehill  Quarterback | 2015-2020 (FA: 2...</td>\n",
       "      <td>26</td>\n",
       "      <td>4</td>\n",
       "      <td>$77,000,000</td>\n",
       "      <td>$19,250,000</td>\n",
       "      <td>$11,500,000</td>\n",
       "      <td>$21,500,000</td>\n",
       "      <td>$45,000,000</td>\n",
       "    </tr>\n",
       "    <tr>\n",
       "      <th>...</th>\n",
       "      <td>...</td>\n",
       "      <td>...</td>\n",
       "      <td>...</td>\n",
       "      <td>...</td>\n",
       "      <td>...</td>\n",
       "      <td>...</td>\n",
       "      <td>...</td>\n",
       "      <td>...</td>\n",
       "      <td>...</td>\n",
       "    </tr>\n",
       "    <tr>\n",
       "      <th>95</th>\n",
       "      <td>96</td>\n",
       "      <td>Paxton Lynch  Quarterback | 2016-2020 (FA: 202...</td>\n",
       "      <td>22</td>\n",
       "      <td>4</td>\n",
       "      <td>$9,476,296</td>\n",
       "      <td>$2,369,074</td>\n",
       "      <td>$5,091,852</td>\n",
       "      <td>$7,884,074</td>\n",
       "      <td>$7,884,074</td>\n",
       "    </tr>\n",
       "    <tr>\n",
       "      <th>96</th>\n",
       "      <td>97</td>\n",
       "      <td>Lee Smith  Tight End | 2018-2020 (FA: 2021)  O...</td>\n",
       "      <td>30</td>\n",
       "      <td>3</td>\n",
       "      <td>$9,000,000</td>\n",
       "      <td>$3,000,000</td>\n",
       "      <td>NaN</td>\n",
       "      <td>$3,000,000</td>\n",
       "      <td>$3,000,000</td>\n",
       "    </tr>\n",
       "    <tr>\n",
       "      <th>97</th>\n",
       "      <td>97</td>\n",
       "      <td>Sammy Watkins  Wide Receiver | 2020-2020 (FA: ...</td>\n",
       "      <td>26</td>\n",
       "      <td>1</td>\n",
       "      <td>$9,000,000</td>\n",
       "      <td>$9,000,000</td>\n",
       "      <td>$1,000,000</td>\n",
       "      <td>$8,000,000</td>\n",
       "      <td>$8,000,000</td>\n",
       "    </tr>\n",
       "    <tr>\n",
       "      <th>98</th>\n",
       "      <td>97</td>\n",
       "      <td>David Andrews  Center | 2017-2020 (FA: 2021)</td>\n",
       "      <td>24</td>\n",
       "      <td>3</td>\n",
       "      <td>$9,000,000</td>\n",
       "      <td>$3,000,000</td>\n",
       "      <td>$1,600,000</td>\n",
       "      <td>$1,600,000</td>\n",
       "      <td>$1,600,000</td>\n",
       "    </tr>\n",
       "    <tr>\n",
       "      <th>99</th>\n",
       "      <td>97</td>\n",
       "      <td>Donte Moncrief  Wide Receiver | 2019-2020 (FA:...</td>\n",
       "      <td>25</td>\n",
       "      <td>2</td>\n",
       "      <td>$9,000,000</td>\n",
       "      <td>$4,500,000</td>\n",
       "      <td>$3,500,000</td>\n",
       "      <td>$3,500,000</td>\n",
       "      <td>$3,500,000</td>\n",
       "    </tr>\n",
       "  </tbody>\n",
       "</table>\n",
       "<p>100 rows × 9 columns</p>\n",
       "</div>"
      ],
      "text/plain": [
       "    Rank                                             Player  Signed Age  Yrs  \\\n",
       "0      1  Jay Cutler  Quarterback | 2014-2020 (FA: 2021)...          30    7   \n",
       "1      2     Cam Newton  Quarterback | 2015-2020 (FA: 2021)          26    5   \n",
       "2      3  Andy Dalton  Quarterback | 2014-2020 (FA: 2021...          26    6   \n",
       "3      4   Kirk Cousins  Quarterback | 2018-2020 (FA: 2021)          29    3   \n",
       "4      5  Ryan Tannehill  Quarterback | 2015-2020 (FA: 2...          26    4   \n",
       "..   ...                                                ...         ...  ...   \n",
       "95    96  Paxton Lynch  Quarterback | 2016-2020 (FA: 202...          22    4   \n",
       "96    97  Lee Smith  Tight End | 2018-2020 (FA: 2021)  O...          30    3   \n",
       "97    97  Sammy Watkins  Wide Receiver | 2020-2020 (FA: ...          26    1   \n",
       "98    97       David Andrews  Center | 2017-2020 (FA: 2021)          24    3   \n",
       "99    97  Donte Moncrief  Wide Receiver | 2019-2020 (FA:...          25    2   \n",
       "\n",
       "           Value          AAV   Sign Bonus G'teed @ Sign Practical G'teed  \n",
       "0   $126,700,000  $18,100,000          NaN   $38,000,000      $54,000,000  \n",
       "1   $103,800,000  $20,760,000  $22,500,000   $41,000,000      $60,000,000  \n",
       "2    $96,000,000  $16,000,000  $12,000,000   $17,000,000      $17,000,000  \n",
       "3    $84,000,000  $28,000,000   $3,000,000   $84,000,000      $84,000,000  \n",
       "4    $77,000,000  $19,250,000  $11,500,000   $21,500,000      $45,000,000  \n",
       "..           ...          ...          ...           ...              ...  \n",
       "95    $9,476,296   $2,369,074   $5,091,852    $7,884,074       $7,884,074  \n",
       "96    $9,000,000   $3,000,000          NaN    $3,000,000       $3,000,000  \n",
       "97    $9,000,000   $9,000,000   $1,000,000    $8,000,000       $8,000,000  \n",
       "98    $9,000,000   $3,000,000   $1,600,000    $1,600,000       $1,600,000  \n",
       "99    $9,000,000   $4,500,000   $3,500,000    $3,500,000       $3,500,000  \n",
       "\n",
       "[100 rows x 9 columns]"
      ]
     },
     "execution_count": 56,
     "metadata": {},
     "output_type": "execute_result"
    }
   ],
   "source": [
    "table_contracts = pd.read_html('https://www.spotrac.com/nfl/contracts/sort-value/offense/all-time/free-agent-2021/limit-100/')\n",
    "\n",
    "player_contracts = table_contracts[0]\n",
    "player_contracts"
   ]
  }
 ],
 "metadata": {
  "kernelspec": {
   "display_name": "ml-0451",
   "language": "python",
   "name": "python3"
  },
  "language_info": {
   "codemirror_mode": {
    "name": "ipython",
    "version": 3
   },
   "file_extension": ".py",
   "mimetype": "text/x-python",
   "name": "python",
   "nbconvert_exporter": "python",
   "pygments_lexer": "ipython3",
   "version": "3.9.16"
  },
  "orig_nbformat": 4
 },
 "nbformat": 4,
 "nbformat_minor": 2
}
